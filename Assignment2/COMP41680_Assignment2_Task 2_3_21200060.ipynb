{
 "cells": [
  {
   "cell_type": "markdown",
   "id": "0bd765d4",
   "metadata": {},
   "source": [
    "# COMP41680 Assignment 2 - Task 2 and 3\n",
    "## Student Name: Sanika Kulkarni     Student ID: 21200060\n",
    "\n",
    "The objective of this assignment is to scrape a collection of product reviews from a set of web pages, preprocess the data, and evaluate the performance of different classifiers in the context of two related text classification tasks: \n",
    "- Predicting review sentiment (Task 2)\n",
    "- Predicting review helpfulness (Task 3)"
   ]
  },
  {
   "cell_type": "markdown",
   "id": "e3738b2d",
   "metadata": {},
   "source": [
    "### Task 2: Review Sentiment Classification\n",
    "\n",
    "**Steps to follow:**\n",
    "-  Load the data and create a set of documents, one per review. Each document should consist of the concatenation of the review’s title and body text.\n",
    "-  Assign a class label (“positive” or “negative”) to each review. We will assume that 1-star to 3-star reviews are “negative”, and 4-star to 5-star reviews are “positive”.\n",
    "-  Apply appropriate preprocessing steps to create a numeric representation of the documents, suitable for classification.\n",
    "-  Build two different binary classification models using two classifiers of your choice, to distinguish between “positive” and “negative” reviews.\n",
    "-  Compare the performance of the classification models using an appropriate evaluation strategy. Report and discuss the evaluation results."
   ]
  },
  {
   "cell_type": "markdown",
   "id": "62ea3554",
   "metadata": {},
   "source": [
    "### Importing Libraries"
   ]
  },
  {
   "cell_type": "code",
   "execution_count": 1,
   "id": "fe01ae90",
   "metadata": {},
   "outputs": [],
   "source": [
    "import pandas as pd\n",
    "import numpy as np\n",
    "import seaborn as sns\n",
    "import matplotlib.pyplot as plt\n",
    "\n",
    "import nltk\n",
    "from nltk.tokenize import sent_tokenize\n",
    "from nltk.corpus import stopwords\n",
    "from nltk.stem import WordNetLemmatizer\n",
    "from sklearn.feature_extraction import text\n",
    "from sklearn.feature_extraction.text import CountVectorizer, TfidfTransformer,TfidfVectorizer\n",
    "\n",
    "from sklearn.model_selection import train_test_split\n",
    "from sklearn.metrics import accuracy_score, confusion_matrix, ConfusionMatrixDisplay,roc_auc_score,roc_curve\n",
    "from sklearn.metrics import precision_score,recall_score,f1_score\n",
    "from sklearn.metrics import classification_report\n",
    "from sklearn.model_selection import GridSearchCV\n",
    "\n",
    "from sklearn.linear_model import LogisticRegression\n",
    "from sklearn.ensemble import RandomForestClassifier\n",
    "import warnings\n",
    "warnings.filterwarnings(\"ignore\")"
   ]
  },
  {
   "cell_type": "markdown",
   "id": "72609321",
   "metadata": {},
   "source": [
    "### 1. Reading the scraped data"
   ]
  },
  {
   "cell_type": "code",
   "execution_count": 2,
   "id": "bf588b91",
   "metadata": {},
   "outputs": [
    {
     "data": {
      "text/html": [
       "<div>\n",
       "<style scoped>\n",
       "    .dataframe tbody tr th:only-of-type {\n",
       "        vertical-align: middle;\n",
       "    }\n",
       "\n",
       "    .dataframe tbody tr th {\n",
       "        vertical-align: top;\n",
       "    }\n",
       "\n",
       "    .dataframe thead th {\n",
       "        text-align: right;\n",
       "    }\n",
       "</style>\n",
       "<table border=\"1\" class=\"dataframe\">\n",
       "  <thead>\n",
       "    <tr style=\"text-align: right;\">\n",
       "      <th></th>\n",
       "      <th>Title</th>\n",
       "      <th>Review</th>\n",
       "      <th>Star_ratings</th>\n",
       "      <th>Helpfulness</th>\n",
       "    </tr>\n",
       "  </thead>\n",
       "  <tbody>\n",
       "    <tr>\n",
       "      <th>0</th>\n",
       "      <td>The herbs were great...but the cherry tomatoe...</td>\n",
       "      <td>The herb kit that came with my Aerogarden was ...</td>\n",
       "      <td>2-star</td>\n",
       "      <td>15 out of 17 users found this review helpful</td>\n",
       "    </tr>\n",
       "    <tr>\n",
       "      <th>1</th>\n",
       "      <td>Even more useful than regular parchment paper</td>\n",
       "      <td>I originally bought this just because it was c...</td>\n",
       "      <td>5-star</td>\n",
       "      <td>19 out of 19 users found this review helpful</td>\n",
       "    </tr>\n",
       "    <tr>\n",
       "      <th>2</th>\n",
       "      <td>Shake it before you bake it</td>\n",
       "      <td>If you do it in reverse (bake before shaking),...</td>\n",
       "      <td>2-star</td>\n",
       "      <td>2 out of 13 users found this review helpful</td>\n",
       "    </tr>\n",
       "    <tr>\n",
       "      <th>3</th>\n",
       "      <td>Not what the picture describes</td>\n",
       "      <td>I bought this steak for my father in law for C...</td>\n",
       "      <td>2-star</td>\n",
       "      <td>7 out of 14 users found this review helpful</td>\n",
       "    </tr>\n",
       "    <tr>\n",
       "      <th>4</th>\n",
       "      <td>What a ripe off - GIVE ME A BREAK</td>\n",
       "      <td>Sorry but I had these noodles and they are no ...</td>\n",
       "      <td>2-star</td>\n",
       "      <td>10 out of 34 users found this review helpful</td>\n",
       "    </tr>\n",
       "    <tr>\n",
       "      <th>...</th>\n",
       "      <td>...</td>\n",
       "      <td>...</td>\n",
       "      <td>...</td>\n",
       "      <td>...</td>\n",
       "    </tr>\n",
       "    <tr>\n",
       "      <th>5541</th>\n",
       "      <td>Ovaltine has changed their formula</td>\n",
       "      <td>Ovaltine has updated their packaging and chang...</td>\n",
       "      <td>1-star</td>\n",
       "      <td>25 out of 27 users found this review helpful</td>\n",
       "    </tr>\n",
       "    <tr>\n",
       "      <th>5542</th>\n",
       "      <td>Perhaps too compostable?</td>\n",
       "      <td>I bought these bags to go with Trading ECO-200...</td>\n",
       "      <td>3-star</td>\n",
       "      <td>20 out of 21 users found this review helpful</td>\n",
       "    </tr>\n",
       "    <tr>\n",
       "      <th>5543</th>\n",
       "      <td>Nutiva Organic Shelled Hempseed, 5-Pound Bag</td>\n",
       "      <td>This item was brought up in a forum with a lin...</td>\n",
       "      <td>5-star</td>\n",
       "      <td>22 out of 26 users found this review helpful</td>\n",
       "    </tr>\n",
       "    <tr>\n",
       "      <th>5544</th>\n",
       "      <td>This gum is really great!</td>\n",
       "      <td>If you have problems with Aspartame (which is ...</td>\n",
       "      <td>5-star</td>\n",
       "      <td>17 out of 17 users found this review helpful</td>\n",
       "    </tr>\n",
       "    <tr>\n",
       "      <th>5545</th>\n",
       "      <td>Cat Scratch Fever!!</td>\n",
       "      <td>I opened up the cat scratcher, spread a little...</td>\n",
       "      <td>5-star</td>\n",
       "      <td>27 out of 27 users found this review helpful</td>\n",
       "    </tr>\n",
       "  </tbody>\n",
       "</table>\n",
       "<p>5546 rows × 4 columns</p>\n",
       "</div>"
      ],
      "text/plain": [
       "                                                  Title  \\\n",
       "0      The herbs were great...but the cherry tomatoe...   \n",
       "1         Even more useful than regular parchment paper   \n",
       "2                           Shake it before you bake it   \n",
       "3                        Not what the picture describes   \n",
       "4                     What a ripe off - GIVE ME A BREAK   \n",
       "...                                                 ...   \n",
       "5541                 Ovaltine has changed their formula   \n",
       "5542                           Perhaps too compostable?   \n",
       "5543       Nutiva Organic Shelled Hempseed, 5-Pound Bag   \n",
       "5544                          This gum is really great!   \n",
       "5545                                Cat Scratch Fever!!   \n",
       "\n",
       "                                                 Review Star_ratings  \\\n",
       "0     The herb kit that came with my Aerogarden was ...       2-star   \n",
       "1     I originally bought this just because it was c...       5-star   \n",
       "2     If you do it in reverse (bake before shaking),...       2-star   \n",
       "3     I bought this steak for my father in law for C...       2-star   \n",
       "4     Sorry but I had these noodles and they are no ...       2-star   \n",
       "...                                                 ...          ...   \n",
       "5541  Ovaltine has updated their packaging and chang...       1-star   \n",
       "5542  I bought these bags to go with Trading ECO-200...       3-star   \n",
       "5543  This item was brought up in a forum with a lin...       5-star   \n",
       "5544  If you have problems with Aspartame (which is ...       5-star   \n",
       "5545  I opened up the cat scratcher, spread a little...       5-star   \n",
       "\n",
       "                                       Helpfulness  \n",
       "0     15 out of 17 users found this review helpful  \n",
       "1     19 out of 19 users found this review helpful  \n",
       "2      2 out of 13 users found this review helpful  \n",
       "3      7 out of 14 users found this review helpful  \n",
       "4     10 out of 34 users found this review helpful  \n",
       "...                                            ...  \n",
       "5541  25 out of 27 users found this review helpful  \n",
       "5542  20 out of 21 users found this review helpful  \n",
       "5543  22 out of 26 users found this review helpful  \n",
       "5544  17 out of 17 users found this review helpful  \n",
       "5545  27 out of 27 users found this review helpful  \n",
       "\n",
       "[5546 rows x 4 columns]"
      ]
     },
     "execution_count": 2,
     "metadata": {},
     "output_type": "execute_result"
    }
   ],
   "source": [
    "reviews = pd.read_csv(\"product_reviews.csv\")\n",
    "reviews"
   ]
  },
  {
   "cell_type": "markdown",
   "id": "880bcb8e",
   "metadata": {},
   "source": [
    "### Creating a document by combining title and body of the review"
   ]
  },
  {
   "cell_type": "code",
   "execution_count": 3,
   "id": "e2ccf3c0",
   "metadata": {},
   "outputs": [
    {
     "data": {
      "text/plain": [
       "'\\xa0Even more useful than regular parchment paper. I originally bought this just because it was cheaper than the regular parchment paper in the grocery store. I was therefore very pleasantly surprised to find out that it\\'s actually much more useful than regular parchment paper. The silicone non-stick coating is no joke. Before I got this, I would often line pans with aluminum foil and spray them with oil to roast peppers, cook frozen samosas, etc. Now, I instead just lay the food on top of a piece of parchment paper, and the non-stick coating makes oil unnecessary. And, this paper is *much* cheaper than aluminum foil. Two things to note: at 13\" wide, it\\'s a couple of inches narrower than most regular parchment paper. Also, unlike most grocery store brands, it doesn\\'t have a metal band to help you tear off sheets. (They claim that you can use the cardboard edge to do that, but it doesn\\'t work.) But 13\" is plenty for almost everything I do. And using scissors to cut the paper is a small price to pay given how well this paper works. …'"
      ]
     },
     "execution_count": 3,
     "metadata": {},
     "output_type": "execute_result"
    }
   ],
   "source": [
    "reviews_2 = reviews.copy()\n",
    "reviews_2['Document(Title + Body)'] = reviews['Title'] + '. ' + reviews['Review']\n",
    "reviews_2['Document(Title + Body)'][1]"
   ]
  },
  {
   "cell_type": "code",
   "execution_count": 4,
   "id": "ab2083c7",
   "metadata": {},
   "outputs": [
    {
     "data": {
      "text/html": [
       "<div>\n",
       "<style scoped>\n",
       "    .dataframe tbody tr th:only-of-type {\n",
       "        vertical-align: middle;\n",
       "    }\n",
       "\n",
       "    .dataframe tbody tr th {\n",
       "        vertical-align: top;\n",
       "    }\n",
       "\n",
       "    .dataframe thead th {\n",
       "        text-align: right;\n",
       "    }\n",
       "</style>\n",
       "<table border=\"1\" class=\"dataframe\">\n",
       "  <thead>\n",
       "    <tr style=\"text-align: right;\">\n",
       "      <th></th>\n",
       "      <th>Star_ratings</th>\n",
       "      <th>Document(Title + Body)</th>\n",
       "    </tr>\n",
       "  </thead>\n",
       "  <tbody>\n",
       "    <tr>\n",
       "      <th>0</th>\n",
       "      <td>2-star</td>\n",
       "      <td>The herbs were great...but the cherry tomatoe...</td>\n",
       "    </tr>\n",
       "    <tr>\n",
       "      <th>1</th>\n",
       "      <td>5-star</td>\n",
       "      <td>Even more useful than regular parchment paper...</td>\n",
       "    </tr>\n",
       "    <tr>\n",
       "      <th>2</th>\n",
       "      <td>2-star</td>\n",
       "      <td>Shake it before you bake it. If you do it in ...</td>\n",
       "    </tr>\n",
       "    <tr>\n",
       "      <th>3</th>\n",
       "      <td>2-star</td>\n",
       "      <td>Not what the picture describes. I bought this...</td>\n",
       "    </tr>\n",
       "    <tr>\n",
       "      <th>4</th>\n",
       "      <td>2-star</td>\n",
       "      <td>What a ripe off - GIVE ME A BREAK. Sorry but ...</td>\n",
       "    </tr>\n",
       "    <tr>\n",
       "      <th>...</th>\n",
       "      <td>...</td>\n",
       "      <td>...</td>\n",
       "    </tr>\n",
       "    <tr>\n",
       "      <th>5541</th>\n",
       "      <td>1-star</td>\n",
       "      <td>Ovaltine has changed their formula. Ovaltine ...</td>\n",
       "    </tr>\n",
       "    <tr>\n",
       "      <th>5542</th>\n",
       "      <td>3-star</td>\n",
       "      <td>Perhaps too compostable?. I bought these bags...</td>\n",
       "    </tr>\n",
       "    <tr>\n",
       "      <th>5543</th>\n",
       "      <td>5-star</td>\n",
       "      <td>Nutiva Organic Shelled Hempseed, 5-Pound Bag....</td>\n",
       "    </tr>\n",
       "    <tr>\n",
       "      <th>5544</th>\n",
       "      <td>5-star</td>\n",
       "      <td>This gum is really great!. If you have proble...</td>\n",
       "    </tr>\n",
       "    <tr>\n",
       "      <th>5545</th>\n",
       "      <td>5-star</td>\n",
       "      <td>Cat Scratch Fever!!. I opened up the cat scra...</td>\n",
       "    </tr>\n",
       "  </tbody>\n",
       "</table>\n",
       "<p>5546 rows × 2 columns</p>\n",
       "</div>"
      ],
      "text/plain": [
       "     Star_ratings                             Document(Title + Body)\n",
       "0          2-star   The herbs were great...but the cherry tomatoe...\n",
       "1          5-star   Even more useful than regular parchment paper...\n",
       "2          2-star   Shake it before you bake it. If you do it in ...\n",
       "3          2-star   Not what the picture describes. I bought this...\n",
       "4          2-star   What a ripe off - GIVE ME A BREAK. Sorry but ...\n",
       "...           ...                                                ...\n",
       "5541       1-star   Ovaltine has changed their formula. Ovaltine ...\n",
       "5542       3-star   Perhaps too compostable?. I bought these bags...\n",
       "5543       5-star   Nutiva Organic Shelled Hempseed, 5-Pound Bag....\n",
       "5544       5-star   This gum is really great!. If you have proble...\n",
       "5545       5-star   Cat Scratch Fever!!. I opened up the cat scra...\n",
       "\n",
       "[5546 rows x 2 columns]"
      ]
     },
     "execution_count": 4,
     "metadata": {},
     "output_type": "execute_result"
    }
   ],
   "source": [
    "reviews_2.drop(['Title','Review','Helpfulness'],axis=1,inplace=True) #Since we do not need these columns\n",
    "reviews_2"
   ]
  },
  {
   "cell_type": "markdown",
   "id": "97a5188d",
   "metadata": {},
   "source": [
    "### 2. Assigning labels (“positive” or “negative”) to each review\n",
    "We will assume that 1-star to 3-star reviews are “negative”, and 4-star to 5-star reviews are “positive”."
   ]
  },
  {
   "cell_type": "code",
   "execution_count": 5,
   "id": "f8e108e9",
   "metadata": {},
   "outputs": [
    {
     "data": {
      "text/html": [
       "<div>\n",
       "<style scoped>\n",
       "    .dataframe tbody tr th:only-of-type {\n",
       "        vertical-align: middle;\n",
       "    }\n",
       "\n",
       "    .dataframe tbody tr th {\n",
       "        vertical-align: top;\n",
       "    }\n",
       "\n",
       "    .dataframe thead th {\n",
       "        text-align: right;\n",
       "    }\n",
       "</style>\n",
       "<table border=\"1\" class=\"dataframe\">\n",
       "  <thead>\n",
       "    <tr style=\"text-align: right;\">\n",
       "      <th></th>\n",
       "      <th>Document(Title + Body)</th>\n",
       "      <th>label</th>\n",
       "    </tr>\n",
       "  </thead>\n",
       "  <tbody>\n",
       "    <tr>\n",
       "      <th>0</th>\n",
       "      <td>The herbs were great...but the cherry tomatoe...</td>\n",
       "      <td>negative</td>\n",
       "    </tr>\n",
       "    <tr>\n",
       "      <th>1</th>\n",
       "      <td>Even more useful than regular parchment paper...</td>\n",
       "      <td>positive</td>\n",
       "    </tr>\n",
       "    <tr>\n",
       "      <th>2</th>\n",
       "      <td>Shake it before you bake it. If you do it in ...</td>\n",
       "      <td>negative</td>\n",
       "    </tr>\n",
       "    <tr>\n",
       "      <th>3</th>\n",
       "      <td>Not what the picture describes. I bought this...</td>\n",
       "      <td>negative</td>\n",
       "    </tr>\n",
       "    <tr>\n",
       "      <th>4</th>\n",
       "      <td>What a ripe off - GIVE ME A BREAK. Sorry but ...</td>\n",
       "      <td>negative</td>\n",
       "    </tr>\n",
       "    <tr>\n",
       "      <th>...</th>\n",
       "      <td>...</td>\n",
       "      <td>...</td>\n",
       "    </tr>\n",
       "    <tr>\n",
       "      <th>5541</th>\n",
       "      <td>Ovaltine has changed their formula. Ovaltine ...</td>\n",
       "      <td>negative</td>\n",
       "    </tr>\n",
       "    <tr>\n",
       "      <th>5542</th>\n",
       "      <td>Perhaps too compostable?. I bought these bags...</td>\n",
       "      <td>negative</td>\n",
       "    </tr>\n",
       "    <tr>\n",
       "      <th>5543</th>\n",
       "      <td>Nutiva Organic Shelled Hempseed, 5-Pound Bag....</td>\n",
       "      <td>positive</td>\n",
       "    </tr>\n",
       "    <tr>\n",
       "      <th>5544</th>\n",
       "      <td>This gum is really great!. If you have proble...</td>\n",
       "      <td>positive</td>\n",
       "    </tr>\n",
       "    <tr>\n",
       "      <th>5545</th>\n",
       "      <td>Cat Scratch Fever!!. I opened up the cat scra...</td>\n",
       "      <td>positive</td>\n",
       "    </tr>\n",
       "  </tbody>\n",
       "</table>\n",
       "<p>5546 rows × 2 columns</p>\n",
       "</div>"
      ],
      "text/plain": [
       "                                 Document(Title + Body)     label\n",
       "0      The herbs were great...but the cherry tomatoe...  negative\n",
       "1      Even more useful than regular parchment paper...  positive\n",
       "2      Shake it before you bake it. If you do it in ...  negative\n",
       "3      Not what the picture describes. I bought this...  negative\n",
       "4      What a ripe off - GIVE ME A BREAK. Sorry but ...  negative\n",
       "...                                                 ...       ...\n",
       "5541   Ovaltine has changed their formula. Ovaltine ...  negative\n",
       "5542   Perhaps too compostable?. I bought these bags...  negative\n",
       "5543   Nutiva Organic Shelled Hempseed, 5-Pound Bag....  positive\n",
       "5544   This gum is really great!. If you have proble...  positive\n",
       "5545   Cat Scratch Fever!!. I opened up the cat scra...  positive\n",
       "\n",
       "[5546 rows x 2 columns]"
      ]
     },
     "execution_count": 5,
     "metadata": {},
     "output_type": "execute_result"
    }
   ],
   "source": [
    "reviews_2['Star_ratings'].replace(to_replace =[\"1-star\", \"2-star\", \"3-star\"], value =\"negative\", inplace= True)\n",
    "reviews_2['Star_ratings'].replace(to_replace =[\"4-star\", \"5-star\"], value =\"positive\", inplace= True)\n",
    "reviews_2['label'] = reviews_2['Star_ratings']\n",
    "reviews_2.drop('Star_ratings',axis=1,inplace=True)\n",
    "reviews_2"
   ]
  },
  {
   "cell_type": "markdown",
   "id": "df140e50",
   "metadata": {},
   "source": [
    "### Checking if our dataset is balanced\n",
    "\n",
    "I am checking the number of data points per class to see if the data is balanced. \n",
    "In this case, it is fairly balanced."
   ]
  },
  {
   "cell_type": "code",
   "execution_count": 6,
   "id": "237ee041",
   "metadata": {},
   "outputs": [
    {
     "data": {
      "image/png": "[encoded data removed]",
      "text/plain": [
       "<Figure size 576x288 with 1 Axes>"
      ]
     },
     "metadata": {
      "needs_background": "light"
     },
     "output_type": "display_data"
    }
   ],
   "source": [
    "colors = sns.color_palette('deep')\n",
    "\n",
    "plt.figure(figsize=(8,4), tight_layout=True)\n",
    "plt.bar(x=['Positive', 'Negative'],\n",
    "        height=reviews_2.value_counts(['label']),\n",
    "        color=colors[:2])\n",
    "plt.title('Sentiment')\n",
    "plt.show()"
   ]
  },
  {
   "cell_type": "markdown",
   "id": "27ab1f03",
   "metadata": {},
   "source": [
    "### 3. Preprocessing the data \n",
    "\n",
    "Text classification problems like sentimental analysis uses classifiers and algorithms that expect numerical feature vectors rather than raw text documents. This is why we need to turn our review data into numerical vectors.\n",
    "These are majorly divided into two main categories:\n",
    "-  Bag of words Model - Each document can be represented as a term vector based on frequency of the terms and a document term matrix is created\n",
    "- TD-IDF Model - Weighing based approach\n",
    "\n",
    "**Limitations of Bag-of-Words:**\n",
    "-  For large documents, the vectors would be of large sizes and would also have too many null values leading to the creation of sparse vectors.\n",
    "- Does not bring in any information on the meaning of the text\n",
    "\n",
    "Unlike, bag-of-words, tf-idf creates a normalized count where each word count is divided by the number of documents this word appears in.\n",
    "\n",
    "bow(w, d) = # times word w appears in document d.\n",
    "tf-idf(w, d) = bow(w, d) x N / (# documents in which word w appears)\n",
    "\n",
    "where N is the total number of documents. The fraction (N / (# documents in which word w appears)) is known as inverse document frequency."
   ]
  },
  {
   "cell_type": "markdown",
   "id": "227a5bb6",
   "metadata": {},
   "source": [
    "\n",
    "### Splitting the data into train and test sets\n",
    "\n",
    "It is important to split the data into training and testing sets before vectorization in order to prevent data leakage and give a proper approximation of the algorithmic accuracy at production level."
   ]
  },
  {
   "cell_type": "code",
   "execution_count": 7,
   "id": "aaba4a05",
   "metadata": {},
   "outputs": [],
   "source": [
    "target = reviews_2['label']\n",
    "target =  target.values.tolist()\n",
    "reviews_2.drop('label',inplace=True, axis=1)\n",
    "X_train, X_test, y_train, y_test = train_test_split(reviews_2,target, test_size = 0.2, random_state = 1)"
   ]
  },
  {
   "cell_type": "code",
   "execution_count": 8,
   "id": "706e614d",
   "metadata": {},
   "outputs": [
    {
     "name": "stdout",
     "output_type": "stream",
     "text": [
      "The number of training samples are:  4436\n",
      "The number of test samples are:  1110\n"
     ]
    }
   ],
   "source": [
    "print(\"The number of training samples are: \" ,(X_train.shape[0]))\n",
    "print(\"The number of test samples are: \" ,(X_test.shape[0]))"
   ]
  },
  {
   "cell_type": "code",
   "execution_count": 9,
   "id": "a37815bd",
   "metadata": {},
   "outputs": [
    {
     "data": {
      "text/html": [
       "<div>\n",
       "<style scoped>\n",
       "    .dataframe tbody tr th:only-of-type {\n",
       "        vertical-align: middle;\n",
       "    }\n",
       "\n",
       "    .dataframe tbody tr th {\n",
       "        vertical-align: top;\n",
       "    }\n",
       "\n",
       "    .dataframe thead th {\n",
       "        text-align: right;\n",
       "    }\n",
       "</style>\n",
       "<table border=\"1\" class=\"dataframe\">\n",
       "  <thead>\n",
       "    <tr style=\"text-align: right;\">\n",
       "      <th></th>\n",
       "      <th>Document(Title + Body)</th>\n",
       "    </tr>\n",
       "  </thead>\n",
       "  <tbody>\n",
       "    <tr>\n",
       "      <th>4716</th>\n",
       "      <td>Different product than the photo. Since a DOP...</td>\n",
       "    </tr>\n",
       "    <tr>\n",
       "      <th>3479</th>\n",
       "      <td>Not as good as I had hoped. I've been hooked ...</td>\n",
       "    </tr>\n",
       "    <tr>\n",
       "      <th>2912</th>\n",
       "      <td>Great seeds, need to wash and dry. The seeds ...</td>\n",
       "    </tr>\n",
       "    <tr>\n",
       "      <th>3431</th>\n",
       "      <td>Non-Instant Dry Milk (tips). Even though I ju...</td>\n",
       "    </tr>\n",
       "    <tr>\n",
       "      <th>1673</th>\n",
       "      <td>plain awful. When it comes to junk food, I us...</td>\n",
       "    </tr>\n",
       "    <tr>\n",
       "      <th>...</th>\n",
       "      <td>...</td>\n",
       "    </tr>\n",
       "    <tr>\n",
       "      <th>905</th>\n",
       "      <td>Review on TASTE. I'm writing this review, bec...</td>\n",
       "    </tr>\n",
       "    <tr>\n",
       "      <th>5192</th>\n",
       "      <td>My tips for making this system work. We have ...</td>\n",
       "    </tr>\n",
       "    <tr>\n",
       "      <th>3980</th>\n",
       "      <td>Hey It's $6 per bottle apple juice!. Let's se...</td>\n",
       "    </tr>\n",
       "    <tr>\n",
       "      <th>235</th>\n",
       "      <td>Little filling, disappointed in quality of pr...</td>\n",
       "    </tr>\n",
       "    <tr>\n",
       "      <th>5157</th>\n",
       "      <td>not a true variety pack. This is suppose to b...</td>\n",
       "    </tr>\n",
       "  </tbody>\n",
       "</table>\n",
       "<p>4436 rows × 1 columns</p>\n",
       "</div>"
      ],
      "text/plain": [
       "                                 Document(Title + Body)\n",
       "4716   Different product than the photo. Since a DOP...\n",
       "3479   Not as good as I had hoped. I've been hooked ...\n",
       "2912   Great seeds, need to wash and dry. The seeds ...\n",
       "3431   Non-Instant Dry Milk (tips). Even though I ju...\n",
       "1673   plain awful. When it comes to junk food, I us...\n",
       "...                                                 ...\n",
       "905    Review on TASTE. I'm writing this review, bec...\n",
       "5192   My tips for making this system work. We have ...\n",
       "3980   Hey It's $6 per bottle apple juice!. Let's se...\n",
       "235    Little filling, disappointed in quality of pr...\n",
       "5157   not a true variety pack. This is suppose to b...\n",
       "\n",
       "[4436 rows x 1 columns]"
      ]
     },
     "execution_count": 9,
     "metadata": {},
     "output_type": "execute_result"
    }
   ],
   "source": [
    "X_train"
   ]
  },
  {
   "cell_type": "markdown",
   "id": "fdd68973",
   "metadata": {},
   "source": [
    "### Steps for preprocessing the data:\n",
    "\n",
    " - **Converting to lower case and Tokenization:**\n",
    " \n",
    "It is a good practise to make sure all the words are in lower case since we do not need to know if the word appear at the beginning or the end of sentences. `CountVectorizer()` Converts all characters to lowercase before tokenizing by default.  \n",
    "\n",
    " -  **Stop Words Removal:**\n",
    " \n",
    "Stop words are the set of commonly used words in a language like “a”, “the”, “is”, “are”, etc. Removing these low information words leads to better accuracy and makes the task less intensive by limiting the number of features the model learns.\n",
    "\n",
    "\n",
    " - **Stemming/lemmatization:**\n",
    " \n",
    "Stemming just removes or stems the last few characters of a word, often leading to incorrect meanings and spelling. Lemmatization considers the context and converts the word to its meaningful base form, which is called Lemma. For example, If you lemmatize the word 'Caring', it would return 'Care'. If you stem, it would return 'Car' and this is erroneous. I will thus use lemmatization here.\n",
    "\n",
    " - **Vectorization and Term weighing:** This is done by applying TfidfVectorizer"
   ]
  },
  {
   "cell_type": "markdown",
   "id": "04158867",
   "metadata": {},
   "source": [
    "### 1. Converting to lower case and Tokenization:"
   ]
  },
  {
   "cell_type": "code",
   "execution_count": 10,
   "id": "17f959ee",
   "metadata": {},
   "outputs": [
    {
     "name": "stdout",
     "output_type": "stream",
     "text": [
      "Tokenised Training set of Documents:\n",
      "\n",
      "                                 Document(Title + Body)  \\\n",
      "4716   different product than the photo. since a dop...   \n",
      "3479   not as good as i had hoped. i've been hooked ...   \n",
      "2912   great seeds, need to wash and dry. the seeds ...   \n",
      "3431   non-instant dry milk (tips). even though i ju...   \n",
      "1673   plain awful. when it comes to junk food, i us...   \n",
      "\n",
      "                                                 Tokens  \n",
      "4716  [different, product, than, the, photo, since, ...  \n",
      "3479  [not, as, good, as, had, hoped, ve, been, hook...  \n",
      "2912  [great, seeds, need, to, wash, and, dry, the, ...  \n",
      "3431  [non, instant, dry, milk, tips, even, though, ...  \n",
      "1673  [plain, awful, when, it, comes, to, junk, food...  \n",
      "\n",
      "\n",
      "\n",
      "Tokenised Testing set of Documents:\n",
      "\n",
      "                                 Document(Title + Body)  \\\n",
      "1916   amazing grass amazing product!. i have been u...   \n",
      "2445   hard salami lover. use to pick up at the mark...   \n",
      "3252   wrong color. i ordered red roses for valentin...   \n",
      "3793   good for toddlers. my butler gave me a tin of...   \n",
      "1791   cool, but flat. it's a cool little basket, an...   \n",
      "\n",
      "                                                 Tokens  \n",
      "1916  [amazing, grass, amazing, product, have, been,...  \n",
      "2445  [hard, salami, lover, use, to, pick, up, at, t...  \n",
      "3252  [wrong, color, ordered, red, roses, for, valen...  \n",
      "3793  [good, for, toddlers, my, butler, gave, me, ti...  \n",
      "1791  [cool, but, flat, it, cool, little, basket, an...  \n"
     ]
    }
   ],
   "source": [
    "# convert to lowercase, then tokenize\n",
    "X_train['Document(Title + Body)'] = X_train['Document(Title + Body)'].str.lower()\n",
    "tokenize = CountVectorizer().build_tokenizer()\n",
    "X_train['Tokens'] = X_train.apply(lambda row: tokenize(row['Document(Title + Body)']), axis=1)\n",
    "print(\"Tokenised Training set of Documents:\\n\")\n",
    "print(X_train.head())\n",
    "print(\"\\n\\n\")\n",
    "\n",
    "#Use the same tokenizer for splitting the test data into tokens\n",
    "X_test['Document(Title + Body)'] = X_test['Document(Title + Body)'].str.lower()\n",
    "X_test['Tokens'] = X_test.apply(lambda row: tokenize(row['Document(Title + Body)']), axis=1)\n",
    "print(\"Tokenised Testing set of Documents:\\n\")\n",
    "print(X_test.head())"
   ]
  },
  {
   "cell_type": "markdown",
   "id": "13302ad9",
   "metadata": {},
   "source": [
    "### 2. Removing Stop Words"
   ]
  },
  {
   "cell_type": "code",
   "execution_count": 11,
   "id": "0093032a",
   "metadata": {},
   "outputs": [
    {
     "name": "stdout",
     "output_type": "stream",
     "text": [
      "Tokenised Training set of Documents after stopword removal:\n",
      "\n",
      "                                 Document(Title + Body)  \\\n",
      "4716   different product than the photo. since a dop...   \n",
      "3479   not as good as i had hoped. i've been hooked ...   \n",
      "2912   great seeds, need to wash and dry. the seeds ...   \n",
      "3431   non-instant dry milk (tips). even though i ju...   \n",
      "1673   plain awful. when it comes to junk food, i us...   \n",
      "\n",
      "                                                 Tokens  \\\n",
      "4716  [different, product, than, the, photo, since, ...   \n",
      "3479  [not, as, good, as, had, hoped, ve, been, hook...   \n",
      "2912  [great, seeds, need, to, wash, and, dry, the, ...   \n",
      "3431  [non, instant, dry, milk, tips, even, though, ...   \n",
      "1673  [plain, awful, when, it, comes, to, junk, food...   \n",
      "\n",
      "                                           tokens_clean  \n",
      "4716  [different, product, photo, dop, product, read...  \n",
      "3479  [good, hoped, ve, hooked, spearmint, tea, awhi...  \n",
      "2912  [great, seeds, need, wash, dry, seeds, great, ...  \n",
      "3431  [non, instant, dry, milk, tips, just, did, rev...  \n",
      "1673  [plain, awful, comes, junk, food, usually, sti...  \n",
      "\n",
      "\n",
      "\n",
      "Tokenised Testing set of Documents after stopword removal:\n",
      "\n",
      "                                 Document(Title + Body)  \\\n",
      "1916   amazing grass amazing product!. i have been u...   \n",
      "2445   hard salami lover. use to pick up at the mark...   \n",
      "3252   wrong color. i ordered red roses for valentin...   \n",
      "3793   good for toddlers. my butler gave me a tin of...   \n",
      "1791   cool, but flat. it's a cool little basket, an...   \n",
      "\n",
      "                                                 Tokens  \\\n",
      "1916  [amazing, grass, amazing, product, have, been,...   \n",
      "2445  [hard, salami, lover, use, to, pick, up, at, t...   \n",
      "3252  [wrong, color, ordered, red, roses, for, valen...   \n",
      "3793  [good, for, toddlers, my, butler, gave, me, ti...   \n",
      "1791  [cool, but, flat, it, cool, little, basket, an...   \n",
      "\n",
      "                                           tokens_clean  \n",
      "1916  [amazing, grass, amazing, product, using, berr...  \n",
      "2445  [hard, salami, lover, use, pick, market, could...  \n",
      "3252  [wrong, color, ordered, red, roses, valentin, ...  \n",
      "3793  [good, toddlers, butler, gave, tin, christmas,...  \n",
      "1791  [cool, flat, cool, little, basket, stuff, insi...  \n"
     ]
    }
   ],
   "source": [
    "# Getting a list of english stopwords\n",
    "stopwords = text.ENGLISH_STOP_WORDS\n",
    "\n",
    "#Defining a function to remove stopwords\n",
    "def remove_stopwords(row):\n",
    "    tokens = row['Tokens']\n",
    "    # taken only words (not punctuation)\n",
    "    tokens  = [w for w in tokens if w not in stopwords]\n",
    "    \n",
    "    return tokens\n",
    "\n",
    "#Removing stopwords in training data\n",
    "X_train['tokens_clean'] = X_train.apply(remove_stopwords, axis=1)\n",
    "print(\"Tokenised Training set of Documents after stopword removal:\\n\")\n",
    "print(X_train.head())\n",
    "print(\"\\n\\n\")\n",
    "\n",
    "\n",
    "#Removing stopwords in testing data\n",
    "X_test['tokens_clean'] = X_test.apply(remove_stopwords, axis=1)\n",
    "\n",
    "print(\"Tokenised Testing set of Documents after stopword removal:\\n\")\n",
    "print(X_test.head())"
   ]
  },
  {
   "cell_type": "markdown",
   "id": "01865e22",
   "metadata": {},
   "source": [
    "### 3. Lemmatisation"
   ]
  },
  {
   "cell_type": "code",
   "execution_count": 12,
   "id": "8064dcf8",
   "metadata": {},
   "outputs": [
    {
     "name": "stdout",
     "output_type": "stream",
     "text": [
      "Training set Documents after lemmatization:\n",
      "\n",
      "                                 Document(Title + Body)  \\\n",
      "4716   different product than the photo. since a dop...   \n",
      "3479   not as good as i had hoped. i've been hooked ...   \n",
      "2912   great seeds, need to wash and dry. the seeds ...   \n",
      "3431   non-instant dry milk (tips). even though i ju...   \n",
      "1673   plain awful. when it comes to junk food, i us...   \n",
      "\n",
      "                                                 Tokens  \\\n",
      "4716  [different, product, than, the, photo, since, ...   \n",
      "3479  [not, as, good, as, had, hoped, ve, been, hook...   \n",
      "2912  [great, seeds, need, to, wash, and, dry, the, ...   \n",
      "3431  [non, instant, dry, milk, tips, even, though, ...   \n",
      "1673  [plain, awful, when, it, comes, to, junk, food...   \n",
      "\n",
      "                                           tokens_clean  \\\n",
      "4716  [different, product, photo, dop, product, read...   \n",
      "3479  [good, hoped, ve, hooked, spearmint, tea, awhi...   \n",
      "2912  [great, seeds, need, wash, dry, seeds, great, ...   \n",
      "3431  [non, instant, dry, milk, tips, just, did, rev...   \n",
      "1673  [plain, awful, comes, junk, food, usually, sti...   \n",
      "\n",
      "                                       lemmatized_words  \n",
      "4716  [different, product, photo, dop, product, read...  \n",
      "3479  [good, hoped, ve, hooked, spearmint, tea, awhi...  \n",
      "2912  [great, seed, need, wash, dry, seed, great, qu...  \n",
      "3431  [non, instant, dry, milk, tip, just, did, revi...  \n",
      "1673  [plain, awful, come, junk, food, usually, stic...  \n",
      "\n",
      "\n",
      "\n",
      "Test set Documents after lemmatization:\n",
      "\n",
      "                                 Document(Title + Body)  \\\n",
      "1916   amazing grass amazing product!. i have been u...   \n",
      "2445   hard salami lover. use to pick up at the mark...   \n",
      "3252   wrong color. i ordered red roses for valentin...   \n",
      "3793   good for toddlers. my butler gave me a tin of...   \n",
      "1791   cool, but flat. it's a cool little basket, an...   \n",
      "\n",
      "                                                 Tokens  \\\n",
      "1916  [amazing, grass, amazing, product, have, been,...   \n",
      "2445  [hard, salami, lover, use, to, pick, up, at, t...   \n",
      "3252  [wrong, color, ordered, red, roses, for, valen...   \n",
      "3793  [good, for, toddlers, my, butler, gave, me, ti...   \n",
      "1791  [cool, but, flat, it, cool, little, basket, an...   \n",
      "\n",
      "                                           tokens_clean  \\\n",
      "1916  [amazing, grass, amazing, product, using, berr...   \n",
      "2445  [hard, salami, lover, use, pick, market, could...   \n",
      "3252  [wrong, color, ordered, red, roses, valentin, ...   \n",
      "3793  [good, toddlers, butler, gave, tin, christmas,...   \n",
      "1791  [cool, flat, cool, little, basket, stuff, insi...   \n",
      "\n",
      "                                       lemmatized_words  \n",
      "1916  [amazing, grass, amazing, product, using, berr...  \n",
      "2445  [hard, salami, lover, use, pick, market, could...  \n",
      "3252  [wrong, color, ordered, red, rose, valentin, d...  \n",
      "3793  [good, toddler, butler, gave, tin, christmas, ...  \n",
      "1791  [cool, flat, cool, little, basket, stuff, insi...  \n",
      "\n",
      "\n",
      "\n"
     ]
    }
   ],
   "source": [
    "lemmatizer = WordNetLemmatizer()\n",
    "def get_lemmatizer_list(row):\n",
    "    word_list = row['tokens_clean']\n",
    "    lemmatized_word_list = [lemmatizer.lemmatize(word) for word in word_list]\n",
    "    \n",
    "    return lemmatized_word_list\n",
    "\n",
    "#Lemmatizing training data\n",
    "X_train['lemmatized_words'] = X_train.apply(get_lemmatizer_list, axis=1)\n",
    "print(\"Training set Documents after lemmatization:\\n\")\n",
    "print(X_train.head())\n",
    "print(\"\\n\\n\")\n",
    "\n",
    "\n",
    "#Lemmatizing test data\n",
    "X_test['lemmatized_words'] = X_test.apply(get_lemmatizer_list, axis=1)\n",
    "print(\"Test set Documents after lemmatization:\\n\")\n",
    "print(X_test.head())\n",
    "print(\"\\n\\n\")"
   ]
  },
  {
   "cell_type": "code",
   "execution_count": 13,
   "id": "1e2521bf",
   "metadata": {},
   "outputs": [],
   "source": [
    "## make lemmatized words useable for tfidf vectorizer \n",
    "def get_strings_sentences(row):\n",
    "    my_list = row['lemmatized_words']\n",
    "    sentence = ' '.join(word for word in my_list)\n",
    "    # print(sentence)\n",
    "    return sentence\n",
    "\n",
    "X_train['words'] = X_train.apply(get_strings_sentences, axis=1)\n",
    "X_test['words'] = X_test.apply(get_strings_sentences, axis=1)"
   ]
  },
  {
   "cell_type": "code",
   "execution_count": 14,
   "id": "82c3e885",
   "metadata": {},
   "outputs": [
    {
     "data": {
      "text/html": [
       "<div>\n",
       "<style scoped>\n",
       "    .dataframe tbody tr th:only-of-type {\n",
       "        vertical-align: middle;\n",
       "    }\n",
       "\n",
       "    .dataframe tbody tr th {\n",
       "        vertical-align: top;\n",
       "    }\n",
       "\n",
       "    .dataframe thead th {\n",
       "        text-align: right;\n",
       "    }\n",
       "</style>\n",
       "<table border=\"1\" class=\"dataframe\">\n",
       "  <thead>\n",
       "    <tr style=\"text-align: right;\">\n",
       "      <th></th>\n",
       "      <th>Document(Title + Body)</th>\n",
       "      <th>Tokens</th>\n",
       "      <th>tokens_clean</th>\n",
       "      <th>lemmatized_words</th>\n",
       "      <th>words</th>\n",
       "    </tr>\n",
       "  </thead>\n",
       "  <tbody>\n",
       "    <tr>\n",
       "      <th>4716</th>\n",
       "      <td>different product than the photo. since a dop...</td>\n",
       "      <td>[different, product, than, the, photo, since, ...</td>\n",
       "      <td>[different, product, photo, dop, product, read...</td>\n",
       "      <td>[different, product, photo, dop, product, read...</td>\n",
       "      <td>different product photo dop product readily av...</td>\n",
       "    </tr>\n",
       "    <tr>\n",
       "      <th>3479</th>\n",
       "      <td>not as good as i had hoped. i've been hooked ...</td>\n",
       "      <td>[not, as, good, as, had, hoped, ve, been, hook...</td>\n",
       "      <td>[good, hoped, ve, hooked, spearmint, tea, awhi...</td>\n",
       "      <td>[good, hoped, ve, hooked, spearmint, tea, awhi...</td>\n",
       "      <td>good hoped ve hooked spearmint tea awhile unav...</td>\n",
       "    </tr>\n",
       "    <tr>\n",
       "      <th>2912</th>\n",
       "      <td>great seeds, need to wash and dry. the seeds ...</td>\n",
       "      <td>[great, seeds, need, to, wash, and, dry, the, ...</td>\n",
       "      <td>[great, seeds, need, wash, dry, seeds, great, ...</td>\n",
       "      <td>[great, seed, need, wash, dry, seed, great, qu...</td>\n",
       "      <td>great seed need wash dry seed great quality di...</td>\n",
       "    </tr>\n",
       "    <tr>\n",
       "      <th>3431</th>\n",
       "      <td>non-instant dry milk (tips). even though i ju...</td>\n",
       "      <td>[non, instant, dry, milk, tips, even, though, ...</td>\n",
       "      <td>[non, instant, dry, milk, tips, just, did, rev...</td>\n",
       "      <td>[non, instant, dry, milk, tip, just, did, revi...</td>\n",
       "      <td>non instant dry milk tip just did review barry...</td>\n",
       "    </tr>\n",
       "    <tr>\n",
       "      <th>1673</th>\n",
       "      <td>plain awful. when it comes to junk food, i us...</td>\n",
       "      <td>[plain, awful, when, it, comes, to, junk, food...</td>\n",
       "      <td>[plain, awful, comes, junk, food, usually, sti...</td>\n",
       "      <td>[plain, awful, come, junk, food, usually, stic...</td>\n",
       "      <td>plain awful come junk food usually stick ding ...</td>\n",
       "    </tr>\n",
       "  </tbody>\n",
       "</table>\n",
       "</div>"
      ],
      "text/plain": [
       "                                 Document(Title + Body)  \\\n",
       "4716   different product than the photo. since a dop...   \n",
       "3479   not as good as i had hoped. i've been hooked ...   \n",
       "2912   great seeds, need to wash and dry. the seeds ...   \n",
       "3431   non-instant dry milk (tips). even though i ju...   \n",
       "1673   plain awful. when it comes to junk food, i us...   \n",
       "\n",
       "                                                 Tokens  \\\n",
       "4716  [different, product, than, the, photo, since, ...   \n",
       "3479  [not, as, good, as, had, hoped, ve, been, hook...   \n",
       "2912  [great, seeds, need, to, wash, and, dry, the, ...   \n",
       "3431  [non, instant, dry, milk, tips, even, though, ...   \n",
       "1673  [plain, awful, when, it, comes, to, junk, food...   \n",
       "\n",
       "                                           tokens_clean  \\\n",
       "4716  [different, product, photo, dop, product, read...   \n",
       "3479  [good, hoped, ve, hooked, spearmint, tea, awhi...   \n",
       "2912  [great, seeds, need, wash, dry, seeds, great, ...   \n",
       "3431  [non, instant, dry, milk, tips, just, did, rev...   \n",
       "1673  [plain, awful, comes, junk, food, usually, sti...   \n",
       "\n",
       "                                       lemmatized_words  \\\n",
       "4716  [different, product, photo, dop, product, read...   \n",
       "3479  [good, hoped, ve, hooked, spearmint, tea, awhi...   \n",
       "2912  [great, seed, need, wash, dry, seed, great, qu...   \n",
       "3431  [non, instant, dry, milk, tip, just, did, revi...   \n",
       "1673  [plain, awful, come, junk, food, usually, stic...   \n",
       "\n",
       "                                                  words  \n",
       "4716  different product photo dop product readily av...  \n",
       "3479  good hoped ve hooked spearmint tea awhile unav...  \n",
       "2912  great seed need wash dry seed great quality di...  \n",
       "3431  non instant dry milk tip just did review barry...  \n",
       "1673  plain awful come junk food usually stick ding ...  "
      ]
     },
     "execution_count": 14,
     "metadata": {},
     "output_type": "execute_result"
    }
   ],
   "source": [
    "X_train.head()"
   ]
  },
  {
   "cell_type": "code",
   "execution_count": 15,
   "id": "bc6ffb28",
   "metadata": {},
   "outputs": [
    {
     "data": {
      "text/html": [
       "<div>\n",
       "<style scoped>\n",
       "    .dataframe tbody tr th:only-of-type {\n",
       "        vertical-align: middle;\n",
       "    }\n",
       "\n",
       "    .dataframe tbody tr th {\n",
       "        vertical-align: top;\n",
       "    }\n",
       "\n",
       "    .dataframe thead th {\n",
       "        text-align: right;\n",
       "    }\n",
       "</style>\n",
       "<table border=\"1\" class=\"dataframe\">\n",
       "  <thead>\n",
       "    <tr style=\"text-align: right;\">\n",
       "      <th></th>\n",
       "      <th>Document(Title + Body)</th>\n",
       "      <th>Tokens</th>\n",
       "      <th>tokens_clean</th>\n",
       "      <th>lemmatized_words</th>\n",
       "      <th>words</th>\n",
       "    </tr>\n",
       "  </thead>\n",
       "  <tbody>\n",
       "    <tr>\n",
       "      <th>1916</th>\n",
       "      <td>amazing grass amazing product!. i have been u...</td>\n",
       "      <td>[amazing, grass, amazing, product, have, been,...</td>\n",
       "      <td>[amazing, grass, amazing, product, using, berr...</td>\n",
       "      <td>[amazing, grass, amazing, product, using, berr...</td>\n",
       "      <td>amazing grass amazing product using berry flav...</td>\n",
       "    </tr>\n",
       "    <tr>\n",
       "      <th>2445</th>\n",
       "      <td>hard salami lover. use to pick up at the mark...</td>\n",
       "      <td>[hard, salami, lover, use, to, pick, up, at, t...</td>\n",
       "      <td>[hard, salami, lover, use, pick, market, could...</td>\n",
       "      <td>[hard, salami, lover, use, pick, market, could...</td>\n",
       "      <td>hard salami lover use pick market couldn fin o...</td>\n",
       "    </tr>\n",
       "    <tr>\n",
       "      <th>3252</th>\n",
       "      <td>wrong color. i ordered red roses for valentin...</td>\n",
       "      <td>[wrong, color, ordered, red, roses, for, valen...</td>\n",
       "      <td>[wrong, color, ordered, red, roses, valentin, ...</td>\n",
       "      <td>[wrong, color, ordered, red, rose, valentin, d...</td>\n",
       "      <td>wrong color ordered red rose valentin day sent...</td>\n",
       "    </tr>\n",
       "    <tr>\n",
       "      <th>3793</th>\n",
       "      <td>good for toddlers. my butler gave me a tin of...</td>\n",
       "      <td>[good, for, toddlers, my, butler, gave, me, ti...</td>\n",
       "      <td>[good, toddlers, butler, gave, tin, christmas,...</td>\n",
       "      <td>[good, toddler, butler, gave, tin, christmas, ...</td>\n",
       "      <td>good toddler butler gave tin christmas year ol...</td>\n",
       "    </tr>\n",
       "    <tr>\n",
       "      <th>1791</th>\n",
       "      <td>cool, but flat. it's a cool little basket, an...</td>\n",
       "      <td>[cool, but, flat, it, cool, little, basket, an...</td>\n",
       "      <td>[cool, flat, cool, little, basket, stuff, insi...</td>\n",
       "      <td>[cool, flat, cool, little, basket, stuff, insi...</td>\n",
       "      <td>cool flat cool little basket stuff inside look...</td>\n",
       "    </tr>\n",
       "  </tbody>\n",
       "</table>\n",
       "</div>"
      ],
      "text/plain": [
       "                                 Document(Title + Body)  \\\n",
       "1916   amazing grass amazing product!. i have been u...   \n",
       "2445   hard salami lover. use to pick up at the mark...   \n",
       "3252   wrong color. i ordered red roses for valentin...   \n",
       "3793   good for toddlers. my butler gave me a tin of...   \n",
       "1791   cool, but flat. it's a cool little basket, an...   \n",
       "\n",
       "                                                 Tokens  \\\n",
       "1916  [amazing, grass, amazing, product, have, been,...   \n",
       "2445  [hard, salami, lover, use, to, pick, up, at, t...   \n",
       "3252  [wrong, color, ordered, red, roses, for, valen...   \n",
       "3793  [good, for, toddlers, my, butler, gave, me, ti...   \n",
       "1791  [cool, but, flat, it, cool, little, basket, an...   \n",
       "\n",
       "                                           tokens_clean  \\\n",
       "1916  [amazing, grass, amazing, product, using, berr...   \n",
       "2445  [hard, salami, lover, use, pick, market, could...   \n",
       "3252  [wrong, color, ordered, red, roses, valentin, ...   \n",
       "3793  [good, toddlers, butler, gave, tin, christmas,...   \n",
       "1791  [cool, flat, cool, little, basket, stuff, insi...   \n",
       "\n",
       "                                       lemmatized_words  \\\n",
       "1916  [amazing, grass, amazing, product, using, berr...   \n",
       "2445  [hard, salami, lover, use, pick, market, could...   \n",
       "3252  [wrong, color, ordered, red, rose, valentin, d...   \n",
       "3793  [good, toddler, butler, gave, tin, christmas, ...   \n",
       "1791  [cool, flat, cool, little, basket, stuff, insi...   \n",
       "\n",
       "                                                  words  \n",
       "1916  amazing grass amazing product using berry flav...  \n",
       "2445  hard salami lover use pick market couldn fin o...  \n",
       "3252  wrong color ordered red rose valentin day sent...  \n",
       "3793  good toddler butler gave tin christmas year ol...  \n",
       "1791  cool flat cool little basket stuff inside look...  "
      ]
     },
     "execution_count": 15,
     "metadata": {},
     "output_type": "execute_result"
    }
   ],
   "source": [
    "X_test.head()"
   ]
  },
  {
   "cell_type": "markdown",
   "id": "f91c30be",
   "metadata": {},
   "source": [
    "### Drop columns that are unnessary"
   ]
  },
  {
   "cell_type": "code",
   "execution_count": 16,
   "id": "7d1ddc51",
   "metadata": {},
   "outputs": [],
   "source": [
    "X_train.drop(['Document(Title + Body)','Tokens','tokens_clean','lemmatized_words'],axis=1,inplace=True)\n",
    "X_test.drop(['Document(Title + Body)','Tokens','tokens_clean','lemmatized_words'],axis=1,inplace=True)"
   ]
  },
  {
   "cell_type": "code",
   "execution_count": 17,
   "id": "08178437",
   "metadata": {},
   "outputs": [
    {
     "data": {
      "text/html": [
       "<div>\n",
       "<style scoped>\n",
       "    .dataframe tbody tr th:only-of-type {\n",
       "        vertical-align: middle;\n",
       "    }\n",
       "\n",
       "    .dataframe tbody tr th {\n",
       "        vertical-align: top;\n",
       "    }\n",
       "\n",
       "    .dataframe thead th {\n",
       "        text-align: right;\n",
       "    }\n",
       "</style>\n",
       "<table border=\"1\" class=\"dataframe\">\n",
       "  <thead>\n",
       "    <tr style=\"text-align: right;\">\n",
       "      <th></th>\n",
       "      <th>words</th>\n",
       "    </tr>\n",
       "  </thead>\n",
       "  <tbody>\n",
       "    <tr>\n",
       "      <th>4716</th>\n",
       "      <td>different product photo dop product readily av...</td>\n",
       "    </tr>\n",
       "    <tr>\n",
       "      <th>3479</th>\n",
       "      <td>good hoped ve hooked spearmint tea awhile unav...</td>\n",
       "    </tr>\n",
       "    <tr>\n",
       "      <th>2912</th>\n",
       "      <td>great seed need wash dry seed great quality di...</td>\n",
       "    </tr>\n",
       "    <tr>\n",
       "      <th>3431</th>\n",
       "      <td>non instant dry milk tip just did review barry...</td>\n",
       "    </tr>\n",
       "    <tr>\n",
       "      <th>1673</th>\n",
       "      <td>plain awful come junk food usually stick ding ...</td>\n",
       "    </tr>\n",
       "  </tbody>\n",
       "</table>\n",
       "</div>"
      ],
      "text/plain": [
       "                                                  words\n",
       "4716  different product photo dop product readily av...\n",
       "3479  good hoped ve hooked spearmint tea awhile unav...\n",
       "2912  great seed need wash dry seed great quality di...\n",
       "3431  non instant dry milk tip just did review barry...\n",
       "1673  plain awful come junk food usually stick ding ..."
      ]
     },
     "execution_count": 17,
     "metadata": {},
     "output_type": "execute_result"
    }
   ],
   "source": [
    "X_train.head()"
   ]
  },
  {
   "cell_type": "code",
   "execution_count": 18,
   "id": "3e1a2003",
   "metadata": {},
   "outputs": [
    {
     "data": {
      "text/html": [
       "<div>\n",
       "<style scoped>\n",
       "    .dataframe tbody tr th:only-of-type {\n",
       "        vertical-align: middle;\n",
       "    }\n",
       "\n",
       "    .dataframe tbody tr th {\n",
       "        vertical-align: top;\n",
       "    }\n",
       "\n",
       "    .dataframe thead th {\n",
       "        text-align: right;\n",
       "    }\n",
       "</style>\n",
       "<table border=\"1\" class=\"dataframe\">\n",
       "  <thead>\n",
       "    <tr style=\"text-align: right;\">\n",
       "      <th></th>\n",
       "      <th>words</th>\n",
       "    </tr>\n",
       "  </thead>\n",
       "  <tbody>\n",
       "    <tr>\n",
       "      <th>1916</th>\n",
       "      <td>amazing grass amazing product using berry flav...</td>\n",
       "    </tr>\n",
       "    <tr>\n",
       "      <th>2445</th>\n",
       "      <td>hard salami lover use pick market couldn fin o...</td>\n",
       "    </tr>\n",
       "    <tr>\n",
       "      <th>3252</th>\n",
       "      <td>wrong color ordered red rose valentin day sent...</td>\n",
       "    </tr>\n",
       "    <tr>\n",
       "      <th>3793</th>\n",
       "      <td>good toddler butler gave tin christmas year ol...</td>\n",
       "    </tr>\n",
       "    <tr>\n",
       "      <th>1791</th>\n",
       "      <td>cool flat cool little basket stuff inside look...</td>\n",
       "    </tr>\n",
       "  </tbody>\n",
       "</table>\n",
       "</div>"
      ],
      "text/plain": [
       "                                                  words\n",
       "1916  amazing grass amazing product using berry flav...\n",
       "2445  hard salami lover use pick market couldn fin o...\n",
       "3252  wrong color ordered red rose valentin day sent...\n",
       "3793  good toddler butler gave tin christmas year ol...\n",
       "1791  cool flat cool little basket stuff inside look..."
      ]
     },
     "execution_count": 18,
     "metadata": {},
     "output_type": "execute_result"
    }
   ],
   "source": [
    "X_test.head()"
   ]
  },
  {
   "cell_type": "markdown",
   "id": "b4826c35",
   "metadata": {},
   "source": [
    "### 4. TF-IDF Vectorization \n",
    "\n",
    "It calculates two things: **term frequency** and **inverse document frequency**. \n",
    "- Term frequency= No. of times the word appears in the sample \n",
    "- IDF = log ( number of times the word appears in the sample / number of times the word appears in the whole document)\n",
    "\n",
    "These TF and IDF values of each word for a specific sample are multiplied to obtain the feature vectors for that sample.\n",
    "\n",
    "The importance increases proportionally to the number of times a word appears in the document but is offset by the frequency of the word in the corpus."
   ]
  },
  {
   "cell_type": "code",
   "execution_count": 19,
   "id": "38f9fae8",
   "metadata": {},
   "outputs": [
    {
     "name": "stdout",
     "output_type": "stream",
     "text": [
      "Vocabulary has 7514 distinct terms\n"
     ]
    }
   ],
   "source": [
    "vectorizer = TfidfVectorizer(stop_words=stopwords, min_df = 3, max_df = 0.85)\n",
    "\n",
    "#Fitting the transformer on training data and transforming it\n",
    "X_train = vectorizer.fit_transform(X_train['words']) \n",
    "\n",
    "# Using the above fitted vectorizer to transform the test data\n",
    "X_test = vectorizer.transform(X_test['words'])\n",
    "\n",
    "terms = vectorizer.get_feature_names()\n",
    "print(\"Vocabulary has %d distinct terms\" % len(terms))"
   ]
  },
  {
   "cell_type": "code",
   "execution_count": 20,
   "id": "3e62f2ae",
   "metadata": {},
   "outputs": [
    {
     "name": "stdout",
     "output_type": "stream",
     "text": [
      "1. product = 137.96\n",
      "2. food = 121.75\n",
      "3. coffee = 118.45\n",
      "4. like = 117.48\n",
      "5. taste = 108.84\n",
      "6. good = 101.09\n",
      "7. great = 95.75\n",
      "8. tea = 90.43\n",
      "9. just = 88.96\n",
      "10. flavor = 87.88\n",
      "11. dog = 81.08\n",
      "12. cup = 80.92\n",
      "13. superstore = 69.26\n",
      "14. make = 65.67\n",
      "15. love = 64.51\n",
      "16. use = 64.45\n",
      "17. price = 64.18\n",
      "18. don = 64.18\n",
      "19. buy = 64.04\n",
      "20. bag = 63.84\n"
     ]
    }
   ],
   "source": [
    "terms = vectorizer.get_feature_names()\n",
    "freqs = X_train.sum(axis=0)\n",
    "sorted_term_indexes = freqs.argsort()\n",
    "sorted_term_indexes = sorted_term_indexes[0, ::-1]\n",
    "for i in range(20):\n",
    "    term_index = sorted_term_indexes[0,i]\n",
    "    print(\"%d. %s = %.2f\" % ((i+1), terms[term_index], freqs[0,term_index] ))"
   ]
  },
  {
   "cell_type": "markdown",
   "id": "9eb599da",
   "metadata": {},
   "source": [
    "We can see that the top words here are product, food, coffee, taste and so on. The `max_df` is used to remove corpus specific words and the `min_df` is used to remove words appearing rarely."
   ]
  },
  {
   "cell_type": "markdown",
   "id": "da152deb",
   "metadata": {},
   "source": [
    "## Classification \n",
    "\n",
    "### Approach 1 - Logistic Regression"
   ]
  },
  {
   "cell_type": "code",
   "execution_count": 21,
   "id": "b19941b2",
   "metadata": {},
   "outputs": [
    {
     "name": "stdout",
     "output_type": "stream",
     "text": [
      "tuned hpyerparameters :(best parameters)  {'C': 10.0, 'penalty': 'l2'}\n",
      "accuracy : 0.8586505806031767\n"
     ]
    }
   ],
   "source": [
    "# Picking the best model by searching the hyperparameter space using GridSearchCV() with cv of 10\n",
    "grid={\"C\":np.logspace(-3,3,7), \"penalty\":[\"l1\",\"l2\"]}# l1 lasso l2 ridge\n",
    "model_1=LogisticRegression()\n",
    "logreg_cv=GridSearchCV(model_1,grid,cv=10)\n",
    "logreg_cv.fit(X_train,y_train)\n",
    "\n",
    "print(\"tuned hpyerparameters :(best parameters) \",logreg_cv.best_params_)\n",
    "print(\"accuracy :\",logreg_cv.best_score_)"
   ]
  },
  {
   "cell_type": "code",
   "execution_count": 22,
   "id": "d2f9682d",
   "metadata": {},
   "outputs": [
    {
     "data": {
      "text/plain": [
       "array(['positive', 'positive', 'negative', ..., 'positive', 'negative',\n",
       "       'negative'], dtype='<U8')"
      ]
     },
     "execution_count": 22,
     "metadata": {},
     "output_type": "execute_result"
    }
   ],
   "source": [
    "# Building a model\n",
    "model_1 = LogisticRegression(C=10,penalty=\"l2\")\n",
    "model_1.fit(X_train, y_train)\n",
    "\n",
    "#generating predictions\n",
    "y_pred_lr = model_1.predict(X_test)\n",
    "y_pred_lr "
   ]
  },
  {
   "cell_type": "code",
   "execution_count": 23,
   "id": "05c54c6d",
   "metadata": {},
   "outputs": [
    {
     "data": {
      "image/png": "[encoded data removed]",
      "text/plain": [
       "<Figure size 432x288 with 2 Axes>"
      ]
     },
     "metadata": {
      "needs_background": "light"
     },
     "output_type": "display_data"
    }
   ],
   "source": [
    "target_categories = [\"Positve\",\"Negative\"]\n",
    "\n",
    "# calculate the confusion matrix\n",
    "cm = confusion_matrix(y_test, y_pred_lr)\n",
    "# display it graphically\n",
    "cmd = ConfusionMatrixDisplay(cm, display_labels=target_categories)\n",
    "cmd.plot();"
   ]
  },
  {
   "cell_type": "markdown",
   "id": "cb87027a",
   "metadata": {},
   "source": [
    "### Approach 2 - Random Forest Classifier"
   ]
  },
  {
   "cell_type": "code",
   "execution_count": 24,
   "id": "34591958",
   "metadata": {},
   "outputs": [
    {
     "name": "stdout",
     "output_type": "stream",
     "text": [
      "tuned hpyerparameters :(best parameters)  {'criterion': 'entropy', 'n_estimators': 100}\n",
      "accuracy : 0.843776637776259\n"
     ]
    }
   ],
   "source": [
    "# Picking the best model by searching the hyperparameter space using GridSearchCV() with cv of 3 \n",
    "grid = { \n",
    "    'n_estimators': [100, 200, 500],\n",
    "    'criterion' :['gini', 'entropy']\n",
    "}\n",
    "model_2=RandomForestClassifier()\n",
    "rfc_cv=GridSearchCV(model_2,grid,cv=3)\n",
    "rfc_cv.fit(X_train,y_train)\n",
    "\n",
    "print(\"tuned hpyerparameters :(best parameters) \",rfc_cv.best_params_)\n",
    "print(\"accuracy :\",rfc_cv.best_score_)"
   ]
  },
  {
   "cell_type": "code",
   "execution_count": 25,
   "id": "d41fc30c",
   "metadata": {},
   "outputs": [
    {
     "data": {
      "image/png": "[encoded data removed]",
      "text/plain": [
       "<Figure size 432x288 with 2 Axes>"
      ]
     },
     "metadata": {
      "needs_background": "light"
     },
     "output_type": "display_data"
    }
   ],
   "source": [
    "model_2 = RandomForestClassifier(n_estimators=100,criterion=\"entropy\")\n",
    "model_2.fit(X_train, y_train)\n",
    "\n",
    "y_pred_rf = model_2.predict(X_test)\n",
    "\n",
    "# calculate the confusion matrix\n",
    "cm = confusion_matrix(y_test, y_pred_rf)\n",
    "cmd = ConfusionMatrixDisplay(cm, display_labels=target_categories)\n",
    "cmd.plot();"
   ]
  },
  {
   "cell_type": "markdown",
   "id": "20a31897",
   "metadata": {},
   "source": [
    "## Comparison and Evaluation"
   ]
  },
  {
   "cell_type": "code",
   "execution_count": 26,
   "id": "63b79e4b",
   "metadata": {},
   "outputs": [
    {
     "name": "stdout",
     "output_type": "stream",
     "text": [
      "\u001b[1mMetrics for Logistic Regression\u001b[0m\n",
      "\n",
      "\n",
      "              precision    recall  f1-score   support\n",
      "\n",
      "     Positve       0.86      0.82      0.84       486\n",
      "    Negative       0.86      0.90      0.88       624\n",
      "\n",
      "    accuracy                           0.86      1110\n",
      "   macro avg       0.86      0.86      0.86      1110\n",
      "weighted avg       0.86      0.86      0.86      1110\n",
      "\n",
      "\n",
      "\n",
      "\u001b[1mMetrics for Random Forest\u001b[0m\n",
      "\n",
      "\n",
      "              precision    recall  f1-score   support\n",
      "\n",
      "     Positve       0.88      0.77      0.82       486\n",
      "    Negative       0.83      0.92      0.87       624\n",
      "\n",
      "    accuracy                           0.85      1110\n",
      "   macro avg       0.86      0.84      0.85      1110\n",
      "weighted avg       0.85      0.85      0.85      1110\n",
      "\n"
     ]
    }
   ],
   "source": [
    "print(\"\\033[1mMetrics for Logistic Regression\\033[0m\")\n",
    "print(\"\\n\")\n",
    "print(classification_report(y_test, y_pred_lr, target_names=target_categories))\n",
    "\n",
    "print(\"\\n\")\n",
    "print(\"\\033[1mMetrics for Random Forest\\033[0m\")\n",
    "print(\"\\n\")\n",
    "print(classification_report(y_test, y_pred_rf, target_names=target_categories))"
   ]
  },
  {
   "cell_type": "markdown",
   "id": "8c2f7620",
   "metadata": {},
   "source": [
    "### Results:\n",
    "\n",
    "- The recall score for negative reviews is very good, meaning that most of the reviews model tags as negative are actually helpful.\n",
    "- The recall score of the positve reviews is less for both. Logistic Regression however beats Random Forest in this case with a recall of 82% compared to that of 77% for Random Forest.\n",
    "- Precision score for Random Forest is better for positve reviews. \n",
    "- Both algorithms perform well on the sentiment analysis task.\n"
   ]
  },
  {
   "cell_type": "markdown",
   "id": "36e4a1f1",
   "metadata": {},
   "source": [
    "### Comparising LR and RF based on ROC AUC "
   ]
  },
  {
   "cell_type": "code",
   "execution_count": 27,
   "id": "d545167c",
   "metadata": {},
   "outputs": [
    {
     "name": "stdout",
     "output_type": "stream",
     "text": [
      "AUC_Score for LR Classifier: 93.59%\n",
      "AUC_Score for RF Classifier: 93.23%\n"
     ]
    }
   ],
   "source": [
    "pred_prob1 = model_1.predict_proba(X_test)\n",
    "pred_prob2 = model_2.predict_proba(X_test)\n",
    "\n",
    "\n",
    "auc_1 = roc_auc_score(y_test, pred_prob1[:,1])\n",
    "auc_2 = roc_auc_score(y_test, pred_prob2[:,1])\n",
    "\n",
    "auc_scores = {}\n",
    "\n",
    "print('AUC_Score for LR Classifier: %.2f%%' % (auc_1 * 100))\n",
    "print('AUC_Score for RF Classifier: %.2f%%' % (auc_2 * 100))\n",
    "\n",
    "auc_scores['LR'] = auc_1\n",
    "auc_scores['RF'] = auc_2"
   ]
  },
  {
   "cell_type": "code",
   "execution_count": 28,
   "id": "077f8579",
   "metadata": {},
   "outputs": [
    {
     "data": {
      "image/png": "[encoded data removed]",
      "text/plain": [
       "<Figure size 432x288 with 1 Axes>"
      ]
     },
     "metadata": {
      "needs_background": "light"
     },
     "output_type": "display_data"
    }
   ],
   "source": [
    "#Plotting the ROC curves \n",
    "\n",
    "fpr_1, tpr_1, _ = roc_curve(y_test,pred_prob1[:,1], pos_label = 'positive')\n",
    "fpr_2, tpr_2, _ = roc_curve(y_test,pred_prob2[:,1], pos_label = 'positive')\n",
    "\n",
    "plt.plot(fpr_1,tpr_1, label='LR AUC = %.2f%%'%(auc_scores['LR']*100))\n",
    "plt.plot(fpr_2,tpr_2, label='RF AUC = %.2f%%'%(auc_scores['RF']*100))\n",
    "\n",
    "\n",
    "plt.ylabel('True Positive Rate')\n",
    "plt.xlabel('False Positive Rate')\n",
    "plt.legend()\n",
    "plt.show()"
   ]
  },
  {
   "cell_type": "markdown",
   "id": "9695e0fa",
   "metadata": {},
   "source": [
    "#### Both algorithms perform very similar and do quite well when it comes to classifying sentiments."
   ]
  },
  {
   "cell_type": "markdown",
   "id": "97ba873d",
   "metadata": {},
   "source": [
    "### Task 3 - Review Helpfulness Classification\n",
    "\n",
    "- Assign a class label (“helpful” or “unhelpful”) based on its associated helpfulness information.\n",
    "- Build two different binary classification models using two classifiers of your choice, to distinguish between “helpful” and “unhelpful” reviews.\n",
    "- Compare the performance of the classification models using an appropriate evaluation strategy. Report and discuss the evaluation results.\n",
    "- Based on the evaluation results from both Tasks 2 and 3, compare and discuss the differences in performance for the two classification tasks (i.e. sentiment and helpfulness classification)."
   ]
  },
  {
   "cell_type": "code",
   "execution_count": 29,
   "id": "89bcfbaf",
   "metadata": {},
   "outputs": [
    {
     "data": {
      "text/html": [
       "<div>\n",
       "<style scoped>\n",
       "    .dataframe tbody tr th:only-of-type {\n",
       "        vertical-align: middle;\n",
       "    }\n",
       "\n",
       "    .dataframe tbody tr th {\n",
       "        vertical-align: top;\n",
       "    }\n",
       "\n",
       "    .dataframe thead th {\n",
       "        text-align: right;\n",
       "    }\n",
       "</style>\n",
       "<table border=\"1\" class=\"dataframe\">\n",
       "  <thead>\n",
       "    <tr style=\"text-align: right;\">\n",
       "      <th></th>\n",
       "      <th>Helpfulness</th>\n",
       "      <th>Document(Title + Body)</th>\n",
       "    </tr>\n",
       "  </thead>\n",
       "  <tbody>\n",
       "    <tr>\n",
       "      <th>0</th>\n",
       "      <td>15 out of 17 users found this review helpful</td>\n",
       "      <td>The herbs were great...but the cherry tomatoe...</td>\n",
       "    </tr>\n",
       "    <tr>\n",
       "      <th>1</th>\n",
       "      <td>19 out of 19 users found this review helpful</td>\n",
       "      <td>Even more useful than regular parchment paper...</td>\n",
       "    </tr>\n",
       "    <tr>\n",
       "      <th>2</th>\n",
       "      <td>2 out of 13 users found this review helpful</td>\n",
       "      <td>Shake it before you bake it. If you do it in ...</td>\n",
       "    </tr>\n",
       "    <tr>\n",
       "      <th>3</th>\n",
       "      <td>7 out of 14 users found this review helpful</td>\n",
       "      <td>Not what the picture describes. I bought this...</td>\n",
       "    </tr>\n",
       "    <tr>\n",
       "      <th>4</th>\n",
       "      <td>10 out of 34 users found this review helpful</td>\n",
       "      <td>What a ripe off - GIVE ME A BREAK. Sorry but ...</td>\n",
       "    </tr>\n",
       "    <tr>\n",
       "      <th>...</th>\n",
       "      <td>...</td>\n",
       "      <td>...</td>\n",
       "    </tr>\n",
       "    <tr>\n",
       "      <th>5541</th>\n",
       "      <td>25 out of 27 users found this review helpful</td>\n",
       "      <td>Ovaltine has changed their formula. Ovaltine ...</td>\n",
       "    </tr>\n",
       "    <tr>\n",
       "      <th>5542</th>\n",
       "      <td>20 out of 21 users found this review helpful</td>\n",
       "      <td>Perhaps too compostable?. I bought these bags...</td>\n",
       "    </tr>\n",
       "    <tr>\n",
       "      <th>5543</th>\n",
       "      <td>22 out of 26 users found this review helpful</td>\n",
       "      <td>Nutiva Organic Shelled Hempseed, 5-Pound Bag....</td>\n",
       "    </tr>\n",
       "    <tr>\n",
       "      <th>5544</th>\n",
       "      <td>17 out of 17 users found this review helpful</td>\n",
       "      <td>This gum is really great!. If you have proble...</td>\n",
       "    </tr>\n",
       "    <tr>\n",
       "      <th>5545</th>\n",
       "      <td>27 out of 27 users found this review helpful</td>\n",
       "      <td>Cat Scratch Fever!!. I opened up the cat scra...</td>\n",
       "    </tr>\n",
       "  </tbody>\n",
       "</table>\n",
       "<p>5546 rows × 2 columns</p>\n",
       "</div>"
      ],
      "text/plain": [
       "                                       Helpfulness  \\\n",
       "0     15 out of 17 users found this review helpful   \n",
       "1     19 out of 19 users found this review helpful   \n",
       "2      2 out of 13 users found this review helpful   \n",
       "3      7 out of 14 users found this review helpful   \n",
       "4     10 out of 34 users found this review helpful   \n",
       "...                                            ...   \n",
       "5541  25 out of 27 users found this review helpful   \n",
       "5542  20 out of 21 users found this review helpful   \n",
       "5543  22 out of 26 users found this review helpful   \n",
       "5544  17 out of 17 users found this review helpful   \n",
       "5545  27 out of 27 users found this review helpful   \n",
       "\n",
       "                                 Document(Title + Body)  \n",
       "0      The herbs were great...but the cherry tomatoe...  \n",
       "1      Even more useful than regular parchment paper...  \n",
       "2      Shake it before you bake it. If you do it in ...  \n",
       "3      Not what the picture describes. I bought this...  \n",
       "4      What a ripe off - GIVE ME A BREAK. Sorry but ...  \n",
       "...                                                 ...  \n",
       "5541   Ovaltine has changed their formula. Ovaltine ...  \n",
       "5542   Perhaps too compostable?. I bought these bags...  \n",
       "5543   Nutiva Organic Shelled Hempseed, 5-Pound Bag....  \n",
       "5544   This gum is really great!. If you have proble...  \n",
       "5545   Cat Scratch Fever!!. I opened up the cat scra...  \n",
       "\n",
       "[5546 rows x 2 columns]"
      ]
     },
     "execution_count": 29,
     "metadata": {},
     "output_type": "execute_result"
    }
   ],
   "source": [
    "reviews = pd.read_csv(\"product_reviews.csv\")\n",
    "reviews['Document(Title + Body)'] = reviews['Title'] + '. ' + reviews['Review']\n",
    "reviews_3 = reviews[['Helpfulness','Document(Title + Body)']]\n",
    "reviews_3"
   ]
  },
  {
   "cell_type": "markdown",
   "id": "cc1133c3",
   "metadata": {},
   "source": [
    "### 1. Assign a class label (“helpful” or “unhelpful”) based on its associated helpfulness information\n",
    "\n",
    "To do this, I have followed the following steps:\n",
    "- Split the Helpfulness column into tokens\n",
    "- The 1st and 4th token shows the number of users who found the review helpful and the total number of users who responded\n",
    "- Find the percentage of people who found the review helpful\n",
    "- If atleast 50% people find it helpful, label 'helpful' else 'unhelpful'"
   ]
  },
  {
   "cell_type": "code",
   "execution_count": 30,
   "id": "d6d8ab71",
   "metadata": {},
   "outputs": [
    {
     "data": {
      "text/html": [
       "<div>\n",
       "<style scoped>\n",
       "    .dataframe tbody tr th:only-of-type {\n",
       "        vertical-align: middle;\n",
       "    }\n",
       "\n",
       "    .dataframe tbody tr th {\n",
       "        vertical-align: top;\n",
       "    }\n",
       "\n",
       "    .dataframe thead th {\n",
       "        text-align: right;\n",
       "    }\n",
       "</style>\n",
       "<table border=\"1\" class=\"dataframe\">\n",
       "  <thead>\n",
       "    <tr style=\"text-align: right;\">\n",
       "      <th></th>\n",
       "      <th>Helpfulness</th>\n",
       "      <th>Document(Title + Body)</th>\n",
       "    </tr>\n",
       "  </thead>\n",
       "  <tbody>\n",
       "    <tr>\n",
       "      <th>0</th>\n",
       "      <td>[15, out, of, 17, users, found, this, review, ...</td>\n",
       "      <td>The herbs were great...but the cherry tomatoe...</td>\n",
       "    </tr>\n",
       "    <tr>\n",
       "      <th>1</th>\n",
       "      <td>[19, out, of, 19, users, found, this, review, ...</td>\n",
       "      <td>Even more useful than regular parchment paper...</td>\n",
       "    </tr>\n",
       "    <tr>\n",
       "      <th>2</th>\n",
       "      <td>[2, out, of, 13, users, found, this, review, h...</td>\n",
       "      <td>Shake it before you bake it. If you do it in ...</td>\n",
       "    </tr>\n",
       "    <tr>\n",
       "      <th>3</th>\n",
       "      <td>[7, out, of, 14, users, found, this, review, h...</td>\n",
       "      <td>Not what the picture describes. I bought this...</td>\n",
       "    </tr>\n",
       "    <tr>\n",
       "      <th>4</th>\n",
       "      <td>[10, out, of, 34, users, found, this, review, ...</td>\n",
       "      <td>What a ripe off - GIVE ME A BREAK. Sorry but ...</td>\n",
       "    </tr>\n",
       "    <tr>\n",
       "      <th>...</th>\n",
       "      <td>...</td>\n",
       "      <td>...</td>\n",
       "    </tr>\n",
       "    <tr>\n",
       "      <th>5541</th>\n",
       "      <td>[25, out, of, 27, users, found, this, review, ...</td>\n",
       "      <td>Ovaltine has changed their formula. Ovaltine ...</td>\n",
       "    </tr>\n",
       "    <tr>\n",
       "      <th>5542</th>\n",
       "      <td>[20, out, of, 21, users, found, this, review, ...</td>\n",
       "      <td>Perhaps too compostable?. I bought these bags...</td>\n",
       "    </tr>\n",
       "    <tr>\n",
       "      <th>5543</th>\n",
       "      <td>[22, out, of, 26, users, found, this, review, ...</td>\n",
       "      <td>Nutiva Organic Shelled Hempseed, 5-Pound Bag....</td>\n",
       "    </tr>\n",
       "    <tr>\n",
       "      <th>5544</th>\n",
       "      <td>[17, out, of, 17, users, found, this, review, ...</td>\n",
       "      <td>This gum is really great!. If you have proble...</td>\n",
       "    </tr>\n",
       "    <tr>\n",
       "      <th>5545</th>\n",
       "      <td>[27, out, of, 27, users, found, this, review, ...</td>\n",
       "      <td>Cat Scratch Fever!!. I opened up the cat scra...</td>\n",
       "    </tr>\n",
       "  </tbody>\n",
       "</table>\n",
       "<p>5546 rows × 2 columns</p>\n",
       "</div>"
      ],
      "text/plain": [
       "                                            Helpfulness  \\\n",
       "0     [15, out, of, 17, users, found, this, review, ...   \n",
       "1     [19, out, of, 19, users, found, this, review, ...   \n",
       "2     [2, out, of, 13, users, found, this, review, h...   \n",
       "3     [7, out, of, 14, users, found, this, review, h...   \n",
       "4     [10, out, of, 34, users, found, this, review, ...   \n",
       "...                                                 ...   \n",
       "5541  [25, out, of, 27, users, found, this, review, ...   \n",
       "5542  [20, out, of, 21, users, found, this, review, ...   \n",
       "5543  [22, out, of, 26, users, found, this, review, ...   \n",
       "5544  [17, out, of, 17, users, found, this, review, ...   \n",
       "5545  [27, out, of, 27, users, found, this, review, ...   \n",
       "\n",
       "                                 Document(Title + Body)  \n",
       "0      The herbs were great...but the cherry tomatoe...  \n",
       "1      Even more useful than regular parchment paper...  \n",
       "2      Shake it before you bake it. If you do it in ...  \n",
       "3      Not what the picture describes. I bought this...  \n",
       "4      What a ripe off - GIVE ME A BREAK. Sorry but ...  \n",
       "...                                                 ...  \n",
       "5541   Ovaltine has changed their formula. Ovaltine ...  \n",
       "5542   Perhaps too compostable?. I bought these bags...  \n",
       "5543   Nutiva Organic Shelled Hempseed, 5-Pound Bag....  \n",
       "5544   This gum is really great!. If you have proble...  \n",
       "5545   Cat Scratch Fever!!. I opened up the cat scra...  \n",
       "\n",
       "[5546 rows x 2 columns]"
      ]
     },
     "execution_count": 30,
     "metadata": {},
     "output_type": "execute_result"
    }
   ],
   "source": [
    "def identify_word_tokens(row):\n",
    "    review = row['Helpfulness']\n",
    "    word_tokens = nltk.word_tokenize(review)\n",
    "    return word_tokens\n",
    "\n",
    "reviews_3['Helpfulness'] = reviews_3.apply(identify_word_tokens, axis=1)\n",
    "reviews_3"
   ]
  },
  {
   "cell_type": "code",
   "execution_count": 31,
   "id": "1845f7e8",
   "metadata": {},
   "outputs": [
    {
     "data": {
      "text/html": [
       "<div>\n",
       "<style scoped>\n",
       "    .dataframe tbody tr th:only-of-type {\n",
       "        vertical-align: middle;\n",
       "    }\n",
       "\n",
       "    .dataframe tbody tr th {\n",
       "        vertical-align: top;\n",
       "    }\n",
       "\n",
       "    .dataframe thead th {\n",
       "        text-align: right;\n",
       "    }\n",
       "</style>\n",
       "<table border=\"1\" class=\"dataframe\">\n",
       "  <thead>\n",
       "    <tr style=\"text-align: right;\">\n",
       "      <th></th>\n",
       "      <th>Helpfulness</th>\n",
       "      <th>Document(Title + Body)</th>\n",
       "      <th>people_helpful</th>\n",
       "      <th>total_people</th>\n",
       "    </tr>\n",
       "  </thead>\n",
       "  <tbody>\n",
       "    <tr>\n",
       "      <th>0</th>\n",
       "      <td>[15, out, of, 17, users, found, this, review, ...</td>\n",
       "      <td>The herbs were great...but the cherry tomatoe...</td>\n",
       "      <td>15</td>\n",
       "      <td>17</td>\n",
       "    </tr>\n",
       "    <tr>\n",
       "      <th>1</th>\n",
       "      <td>[19, out, of, 19, users, found, this, review, ...</td>\n",
       "      <td>Even more useful than regular parchment paper...</td>\n",
       "      <td>19</td>\n",
       "      <td>19</td>\n",
       "    </tr>\n",
       "    <tr>\n",
       "      <th>2</th>\n",
       "      <td>[2, out, of, 13, users, found, this, review, h...</td>\n",
       "      <td>Shake it before you bake it. If you do it in ...</td>\n",
       "      <td>2</td>\n",
       "      <td>13</td>\n",
       "    </tr>\n",
       "    <tr>\n",
       "      <th>3</th>\n",
       "      <td>[7, out, of, 14, users, found, this, review, h...</td>\n",
       "      <td>Not what the picture describes. I bought this...</td>\n",
       "      <td>7</td>\n",
       "      <td>14</td>\n",
       "    </tr>\n",
       "    <tr>\n",
       "      <th>4</th>\n",
       "      <td>[10, out, of, 34, users, found, this, review, ...</td>\n",
       "      <td>What a ripe off - GIVE ME A BREAK. Sorry but ...</td>\n",
       "      <td>10</td>\n",
       "      <td>34</td>\n",
       "    </tr>\n",
       "    <tr>\n",
       "      <th>...</th>\n",
       "      <td>...</td>\n",
       "      <td>...</td>\n",
       "      <td>...</td>\n",
       "      <td>...</td>\n",
       "    </tr>\n",
       "    <tr>\n",
       "      <th>5541</th>\n",
       "      <td>[25, out, of, 27, users, found, this, review, ...</td>\n",
       "      <td>Ovaltine has changed their formula. Ovaltine ...</td>\n",
       "      <td>25</td>\n",
       "      <td>27</td>\n",
       "    </tr>\n",
       "    <tr>\n",
       "      <th>5542</th>\n",
       "      <td>[20, out, of, 21, users, found, this, review, ...</td>\n",
       "      <td>Perhaps too compostable?. I bought these bags...</td>\n",
       "      <td>20</td>\n",
       "      <td>21</td>\n",
       "    </tr>\n",
       "    <tr>\n",
       "      <th>5543</th>\n",
       "      <td>[22, out, of, 26, users, found, this, review, ...</td>\n",
       "      <td>Nutiva Organic Shelled Hempseed, 5-Pound Bag....</td>\n",
       "      <td>22</td>\n",
       "      <td>26</td>\n",
       "    </tr>\n",
       "    <tr>\n",
       "      <th>5544</th>\n",
       "      <td>[17, out, of, 17, users, found, this, review, ...</td>\n",
       "      <td>This gum is really great!. If you have proble...</td>\n",
       "      <td>17</td>\n",
       "      <td>17</td>\n",
       "    </tr>\n",
       "    <tr>\n",
       "      <th>5545</th>\n",
       "      <td>[27, out, of, 27, users, found, this, review, ...</td>\n",
       "      <td>Cat Scratch Fever!!. I opened up the cat scra...</td>\n",
       "      <td>27</td>\n",
       "      <td>27</td>\n",
       "    </tr>\n",
       "  </tbody>\n",
       "</table>\n",
       "<p>5546 rows × 4 columns</p>\n",
       "</div>"
      ],
      "text/plain": [
       "                                            Helpfulness  \\\n",
       "0     [15, out, of, 17, users, found, this, review, ...   \n",
       "1     [19, out, of, 19, users, found, this, review, ...   \n",
       "2     [2, out, of, 13, users, found, this, review, h...   \n",
       "3     [7, out, of, 14, users, found, this, review, h...   \n",
       "4     [10, out, of, 34, users, found, this, review, ...   \n",
       "...                                                 ...   \n",
       "5541  [25, out, of, 27, users, found, this, review, ...   \n",
       "5542  [20, out, of, 21, users, found, this, review, ...   \n",
       "5543  [22, out, of, 26, users, found, this, review, ...   \n",
       "5544  [17, out, of, 17, users, found, this, review, ...   \n",
       "5545  [27, out, of, 27, users, found, this, review, ...   \n",
       "\n",
       "                                 Document(Title + Body) people_helpful  \\\n",
       "0      The herbs were great...but the cherry tomatoe...             15   \n",
       "1      Even more useful than regular parchment paper...             19   \n",
       "2      Shake it before you bake it. If you do it in ...              2   \n",
       "3      Not what the picture describes. I bought this...              7   \n",
       "4      What a ripe off - GIVE ME A BREAK. Sorry but ...             10   \n",
       "...                                                 ...            ...   \n",
       "5541   Ovaltine has changed their formula. Ovaltine ...             25   \n",
       "5542   Perhaps too compostable?. I bought these bags...             20   \n",
       "5543   Nutiva Organic Shelled Hempseed, 5-Pound Bag....             22   \n",
       "5544   This gum is really great!. If you have proble...             17   \n",
       "5545   Cat Scratch Fever!!. I opened up the cat scra...             27   \n",
       "\n",
       "     total_people  \n",
       "0              17  \n",
       "1              19  \n",
       "2              13  \n",
       "3              14  \n",
       "4              34  \n",
       "...           ...  \n",
       "5541           27  \n",
       "5542           21  \n",
       "5543           26  \n",
       "5544           17  \n",
       "5545           27  \n",
       "\n",
       "[5546 rows x 4 columns]"
      ]
     },
     "execution_count": 31,
     "metadata": {},
     "output_type": "execute_result"
    }
   ],
   "source": [
    "reviews_3['people_helpful'] = reviews_3['Helpfulness'].str.get(0)\n",
    "reviews_3['total_people'] = reviews_3['Helpfulness'].str.get(3)\n",
    "reviews_3"
   ]
  },
  {
   "cell_type": "code",
   "execution_count": 32,
   "id": "12c1566b",
   "metadata": {},
   "outputs": [],
   "source": [
    "reviews_3['helpfulness_percentage'] = pd.to_numeric(reviews_3['people_helpful'])/pd.to_numeric(reviews_3['total_people']) * 100"
   ]
  },
  {
   "cell_type": "code",
   "execution_count": 33,
   "id": "6a32efd7",
   "metadata": {},
   "outputs": [
    {
     "data": {
      "text/html": [
       "<div>\n",
       "<style scoped>\n",
       "    .dataframe tbody tr th:only-of-type {\n",
       "        vertical-align: middle;\n",
       "    }\n",
       "\n",
       "    .dataframe tbody tr th {\n",
       "        vertical-align: top;\n",
       "    }\n",
       "\n",
       "    .dataframe thead th {\n",
       "        text-align: right;\n",
       "    }\n",
       "</style>\n",
       "<table border=\"1\" class=\"dataframe\">\n",
       "  <thead>\n",
       "    <tr style=\"text-align: right;\">\n",
       "      <th></th>\n",
       "      <th>Helpfulness</th>\n",
       "      <th>Document(Title + Body)</th>\n",
       "      <th>people_helpful</th>\n",
       "      <th>total_people</th>\n",
       "      <th>helpfulness_percentage</th>\n",
       "    </tr>\n",
       "  </thead>\n",
       "  <tbody>\n",
       "    <tr>\n",
       "      <th>0</th>\n",
       "      <td>[15, out, of, 17, users, found, this, review, ...</td>\n",
       "      <td>The herbs were great...but the cherry tomatoe...</td>\n",
       "      <td>15</td>\n",
       "      <td>17</td>\n",
       "      <td>88.235294</td>\n",
       "    </tr>\n",
       "    <tr>\n",
       "      <th>1</th>\n",
       "      <td>[19, out, of, 19, users, found, this, review, ...</td>\n",
       "      <td>Even more useful than regular parchment paper...</td>\n",
       "      <td>19</td>\n",
       "      <td>19</td>\n",
       "      <td>100.000000</td>\n",
       "    </tr>\n",
       "    <tr>\n",
       "      <th>2</th>\n",
       "      <td>[2, out, of, 13, users, found, this, review, h...</td>\n",
       "      <td>Shake it before you bake it. If you do it in ...</td>\n",
       "      <td>2</td>\n",
       "      <td>13</td>\n",
       "      <td>15.384615</td>\n",
       "    </tr>\n",
       "    <tr>\n",
       "      <th>3</th>\n",
       "      <td>[7, out, of, 14, users, found, this, review, h...</td>\n",
       "      <td>Not what the picture describes. I bought this...</td>\n",
       "      <td>7</td>\n",
       "      <td>14</td>\n",
       "      <td>50.000000</td>\n",
       "    </tr>\n",
       "    <tr>\n",
       "      <th>4</th>\n",
       "      <td>[10, out, of, 34, users, found, this, review, ...</td>\n",
       "      <td>What a ripe off - GIVE ME A BREAK. Sorry but ...</td>\n",
       "      <td>10</td>\n",
       "      <td>34</td>\n",
       "      <td>29.411765</td>\n",
       "    </tr>\n",
       "    <tr>\n",
       "      <th>...</th>\n",
       "      <td>...</td>\n",
       "      <td>...</td>\n",
       "      <td>...</td>\n",
       "      <td>...</td>\n",
       "      <td>...</td>\n",
       "    </tr>\n",
       "    <tr>\n",
       "      <th>5541</th>\n",
       "      <td>[25, out, of, 27, users, found, this, review, ...</td>\n",
       "      <td>Ovaltine has changed their formula. Ovaltine ...</td>\n",
       "      <td>25</td>\n",
       "      <td>27</td>\n",
       "      <td>92.592593</td>\n",
       "    </tr>\n",
       "    <tr>\n",
       "      <th>5542</th>\n",
       "      <td>[20, out, of, 21, users, found, this, review, ...</td>\n",
       "      <td>Perhaps too compostable?. I bought these bags...</td>\n",
       "      <td>20</td>\n",
       "      <td>21</td>\n",
       "      <td>95.238095</td>\n",
       "    </tr>\n",
       "    <tr>\n",
       "      <th>5543</th>\n",
       "      <td>[22, out, of, 26, users, found, this, review, ...</td>\n",
       "      <td>Nutiva Organic Shelled Hempseed, 5-Pound Bag....</td>\n",
       "      <td>22</td>\n",
       "      <td>26</td>\n",
       "      <td>84.615385</td>\n",
       "    </tr>\n",
       "    <tr>\n",
       "      <th>5544</th>\n",
       "      <td>[17, out, of, 17, users, found, this, review, ...</td>\n",
       "      <td>This gum is really great!. If you have proble...</td>\n",
       "      <td>17</td>\n",
       "      <td>17</td>\n",
       "      <td>100.000000</td>\n",
       "    </tr>\n",
       "    <tr>\n",
       "      <th>5545</th>\n",
       "      <td>[27, out, of, 27, users, found, this, review, ...</td>\n",
       "      <td>Cat Scratch Fever!!. I opened up the cat scra...</td>\n",
       "      <td>27</td>\n",
       "      <td>27</td>\n",
       "      <td>100.000000</td>\n",
       "    </tr>\n",
       "  </tbody>\n",
       "</table>\n",
       "<p>5546 rows × 5 columns</p>\n",
       "</div>"
      ],
      "text/plain": [
       "                                            Helpfulness  \\\n",
       "0     [15, out, of, 17, users, found, this, review, ...   \n",
       "1     [19, out, of, 19, users, found, this, review, ...   \n",
       "2     [2, out, of, 13, users, found, this, review, h...   \n",
       "3     [7, out, of, 14, users, found, this, review, h...   \n",
       "4     [10, out, of, 34, users, found, this, review, ...   \n",
       "...                                                 ...   \n",
       "5541  [25, out, of, 27, users, found, this, review, ...   \n",
       "5542  [20, out, of, 21, users, found, this, review, ...   \n",
       "5543  [22, out, of, 26, users, found, this, review, ...   \n",
       "5544  [17, out, of, 17, users, found, this, review, ...   \n",
       "5545  [27, out, of, 27, users, found, this, review, ...   \n",
       "\n",
       "                                 Document(Title + Body) people_helpful  \\\n",
       "0      The herbs were great...but the cherry tomatoe...             15   \n",
       "1      Even more useful than regular parchment paper...             19   \n",
       "2      Shake it before you bake it. If you do it in ...              2   \n",
       "3      Not what the picture describes. I bought this...              7   \n",
       "4      What a ripe off - GIVE ME A BREAK. Sorry but ...             10   \n",
       "...                                                 ...            ...   \n",
       "5541   Ovaltine has changed their formula. Ovaltine ...             25   \n",
       "5542   Perhaps too compostable?. I bought these bags...             20   \n",
       "5543   Nutiva Organic Shelled Hempseed, 5-Pound Bag....             22   \n",
       "5544   This gum is really great!. If you have proble...             17   \n",
       "5545   Cat Scratch Fever!!. I opened up the cat scra...             27   \n",
       "\n",
       "     total_people  helpfulness_percentage  \n",
       "0              17               88.235294  \n",
       "1              19              100.000000  \n",
       "2              13               15.384615  \n",
       "3              14               50.000000  \n",
       "4              34               29.411765  \n",
       "...           ...                     ...  \n",
       "5541           27               92.592593  \n",
       "5542           21               95.238095  \n",
       "5543           26               84.615385  \n",
       "5544           17              100.000000  \n",
       "5545           27              100.000000  \n",
       "\n",
       "[5546 rows x 5 columns]"
      ]
     },
     "execution_count": 33,
     "metadata": {},
     "output_type": "execute_result"
    }
   ],
   "source": [
    "reviews_3"
   ]
  },
  {
   "cell_type": "code",
   "execution_count": 34,
   "id": "dcded6b6",
   "metadata": {},
   "outputs": [
    {
     "data": {
      "text/html": [
       "<div>\n",
       "<style scoped>\n",
       "    .dataframe tbody tr th:only-of-type {\n",
       "        vertical-align: middle;\n",
       "    }\n",
       "\n",
       "    .dataframe tbody tr th {\n",
       "        vertical-align: top;\n",
       "    }\n",
       "\n",
       "    .dataframe thead th {\n",
       "        text-align: right;\n",
       "    }\n",
       "</style>\n",
       "<table border=\"1\" class=\"dataframe\">\n",
       "  <thead>\n",
       "    <tr style=\"text-align: right;\">\n",
       "      <th></th>\n",
       "      <th>Document(Title + Body)</th>\n",
       "      <th>label</th>\n",
       "    </tr>\n",
       "  </thead>\n",
       "  <tbody>\n",
       "    <tr>\n",
       "      <th>0</th>\n",
       "      <td>The herbs were great...but the cherry tomatoe...</td>\n",
       "      <td>helpful</td>\n",
       "    </tr>\n",
       "    <tr>\n",
       "      <th>1</th>\n",
       "      <td>Even more useful than regular parchment paper...</td>\n",
       "      <td>helpful</td>\n",
       "    </tr>\n",
       "    <tr>\n",
       "      <th>2</th>\n",
       "      <td>Shake it before you bake it. If you do it in ...</td>\n",
       "      <td>unhelpful</td>\n",
       "    </tr>\n",
       "    <tr>\n",
       "      <th>3</th>\n",
       "      <td>Not what the picture describes. I bought this...</td>\n",
       "      <td>helpful</td>\n",
       "    </tr>\n",
       "    <tr>\n",
       "      <th>4</th>\n",
       "      <td>What a ripe off - GIVE ME A BREAK. Sorry but ...</td>\n",
       "      <td>unhelpful</td>\n",
       "    </tr>\n",
       "    <tr>\n",
       "      <th>...</th>\n",
       "      <td>...</td>\n",
       "      <td>...</td>\n",
       "    </tr>\n",
       "    <tr>\n",
       "      <th>5541</th>\n",
       "      <td>Ovaltine has changed their formula. Ovaltine ...</td>\n",
       "      <td>helpful</td>\n",
       "    </tr>\n",
       "    <tr>\n",
       "      <th>5542</th>\n",
       "      <td>Perhaps too compostable?. I bought these bags...</td>\n",
       "      <td>helpful</td>\n",
       "    </tr>\n",
       "    <tr>\n",
       "      <th>5543</th>\n",
       "      <td>Nutiva Organic Shelled Hempseed, 5-Pound Bag....</td>\n",
       "      <td>helpful</td>\n",
       "    </tr>\n",
       "    <tr>\n",
       "      <th>5544</th>\n",
       "      <td>This gum is really great!. If you have proble...</td>\n",
       "      <td>helpful</td>\n",
       "    </tr>\n",
       "    <tr>\n",
       "      <th>5545</th>\n",
       "      <td>Cat Scratch Fever!!. I opened up the cat scra...</td>\n",
       "      <td>helpful</td>\n",
       "    </tr>\n",
       "  </tbody>\n",
       "</table>\n",
       "<p>5546 rows × 2 columns</p>\n",
       "</div>"
      ],
      "text/plain": [
       "                                 Document(Title + Body)      label\n",
       "0      The herbs were great...but the cherry tomatoe...    helpful\n",
       "1      Even more useful than regular parchment paper...    helpful\n",
       "2      Shake it before you bake it. If you do it in ...  unhelpful\n",
       "3      Not what the picture describes. I bought this...    helpful\n",
       "4      What a ripe off - GIVE ME A BREAK. Sorry but ...  unhelpful\n",
       "...                                                 ...        ...\n",
       "5541   Ovaltine has changed their formula. Ovaltine ...    helpful\n",
       "5542   Perhaps too compostable?. I bought these bags...    helpful\n",
       "5543   Nutiva Organic Shelled Hempseed, 5-Pound Bag....    helpful\n",
       "5544   This gum is really great!. If you have proble...    helpful\n",
       "5545   Cat Scratch Fever!!. I opened up the cat scra...    helpful\n",
       "\n",
       "[5546 rows x 2 columns]"
      ]
     },
     "execution_count": 34,
     "metadata": {},
     "output_type": "execute_result"
    }
   ],
   "source": [
    "reviews_3['label'] = np.where(reviews_3['helpfulness_percentage']>=50, 'helpful', 'unhelpful')\n",
    "reviews_3.drop(['people_helpful','helpfulness_percentage','total_people','Helpfulness'],inplace = True, axis = 1)\n",
    "reviews_3"
   ]
  },
  {
   "cell_type": "markdown",
   "id": "e80200af",
   "metadata": {},
   "source": [
    "### Checking data per class\n",
    "\n",
    "The data is imbalanced."
   ]
  },
  {
   "cell_type": "code",
   "execution_count": 35,
   "id": "837a1880",
   "metadata": {},
   "outputs": [
    {
     "data": {
      "image/png": "[encoded data removed]",
      "text/plain": [
       "<Figure size 576x288 with 1 Axes>"
      ]
     },
     "metadata": {
      "needs_background": "light"
     },
     "output_type": "display_data"
    }
   ],
   "source": [
    "colors = sns.color_palette('deep')\n",
    "\n",
    "plt.figure(figsize=(8,4), tight_layout=True)\n",
    "plt.bar(x=['helpful', 'unhelpful'],\n",
    "        height=reviews_3.value_counts(['label']),\n",
    "        color=colors[:2])\n",
    "plt.title('Helpfulness')\n",
    "plt.show()"
   ]
  },
  {
   "cell_type": "markdown",
   "id": "423af7ea",
   "metadata": {},
   "source": [
    "### Splitting the data into train and test set"
   ]
  },
  {
   "cell_type": "code",
   "execution_count": 36,
   "id": "56894e12",
   "metadata": {},
   "outputs": [],
   "source": [
    "target = reviews_3['label']\n",
    "target =  target.values.tolist()\n",
    "reviews_3.drop('label',inplace=True, axis=1)\n",
    "X_train, X_test, y_train, y_test = train_test_split(reviews_3,target, test_size = 0.2, random_state = 1, stratify=target)"
   ]
  },
  {
   "cell_type": "markdown",
   "id": "1b03cea4",
   "metadata": {},
   "source": [
    "### Preprocessing the data\n",
    "\n",
    "The above mentioned steps can be done implicitly by using sklearn's libraries like `TfidfVectorizer` and giving appropriate parameters. So, for this task, I have taken the direct approach."
   ]
  },
  {
   "cell_type": "code",
   "execution_count": 37,
   "id": "e5944600",
   "metadata": {},
   "outputs": [],
   "source": [
    "# import the WordNet lemmatizer\n",
    "from nltk.stem import WordNetLemmatizer\n",
    "# define the function\n",
    "def lemma_tokenizer(text):\n",
    "    # use the standard scikit-learn tokenizer first\n",
    "    standard_tokenizer = CountVectorizer().build_tokenizer()\n",
    "    tokens = standard_tokenizer(text)\n",
    "    # then use NLTK to perform lemmatisation on each token\n",
    "    lemmatizer = WordNetLemmatizer()\n",
    "    lemma_tokens = []\n",
    "    for token in tokens:\n",
    "        lemma_tokens.append(lemmatizer.lemmatize(token))\n",
    "    return lemma_tokens"
   ]
  },
  {
   "cell_type": "code",
   "execution_count": 38,
   "id": "1732fe74",
   "metadata": {},
   "outputs": [
    {
     "name": "stdout",
     "output_type": "stream",
     "text": [
      "Vocabulary has 7555 distinct terms\n"
     ]
    }
   ],
   "source": [
    "vectorizer = TfidfVectorizer(stop_words=\"english\",tokenizer=lemma_tokenizer, min_df = 3, max_df = 0.85)\n",
    "\n",
    "#Fitting the transformer on training data and transforming it \n",
    "X_train = vectorizer.fit_transform(X_train['Document(Title + Body)']) \n",
    "\n",
    "# Using the above fitted vectorizer to transform the test data\n",
    "X_test = vectorizer.transform(X_test['Document(Title + Body)'])\n",
    "\n",
    "terms = vectorizer.get_feature_names()\n",
    "print(\"Vocabulary has %d distinct terms\" % len(terms))"
   ]
  },
  {
   "cell_type": "markdown",
   "id": "a358b79a",
   "metadata": {},
   "source": [
    "## 2. Classification \n",
    "\n",
    "### Approach 1 - Logistic Regression\n",
    "\n",
    "### Using the same classifiers for review helpful classification"
   ]
  },
  {
   "cell_type": "code",
   "execution_count": 39,
   "id": "ca1ae123",
   "metadata": {},
   "outputs": [],
   "source": [
    "target_categories = [\"helpful\",\"unhelpful\"]"
   ]
  },
  {
   "cell_type": "code",
   "execution_count": 40,
   "id": "e8c58a6e",
   "metadata": {},
   "outputs": [
    {
     "name": "stdout",
     "output_type": "stream",
     "text": [
      "tuned hpyerparameters :(best parameters)  {'C': 10.0, 'penalty': 'l2'}\n",
      "accuracy : 0.851444390214142\n"
     ]
    }
   ],
   "source": [
    "grid={\"C\":np.logspace(-3,3,7), \"penalty\":[\"l1\",\"l2\"]}# l1 lasso l2 ridge\n",
    "model_1=LogisticRegression()\n",
    "logreg_cv=GridSearchCV(model_1,grid,cv=10)\n",
    "logreg_cv.fit(X_train,y_train)\n",
    "\n",
    "print(\"tuned hpyerparameters :(best parameters) \",logreg_cv.best_params_)\n",
    "print(\"accuracy :\",logreg_cv.best_score_)"
   ]
  },
  {
   "cell_type": "code",
   "execution_count": 41,
   "id": "9a6c6d5a",
   "metadata": {},
   "outputs": [
    {
     "name": "stdout",
     "output_type": "stream",
     "text": [
      "Accuracy of logistic regression is: 87.0 %\n"
     ]
    },
    {
     "data": {
      "image/png": "[encoded data removed]",
      "text/plain": [
       "<Figure size 432x288 with 2 Axes>"
      ]
     },
     "metadata": {
      "needs_background": "light"
     },
     "output_type": "display_data"
    }
   ],
   "source": [
    "# Train model\n",
    "model_1 = LogisticRegression(C= 10.0, penalty='l2')\n",
    "model_1.fit(X_train, y_train)\n",
    "\n",
    "#predict\n",
    "y_pred_lr = model_1.predict(X_test)\n",
    "\n",
    "print(\"Accuracy of logistic regression is:\",round(accuracy_score(y_test,y_pred_lr),2)*100,\"%\")\n",
    "\n",
    "# calculate the confusion matrix\n",
    "cm = confusion_matrix(y_test, y_pred_lr)\n",
    "\n",
    "# display it graphically\n",
    "cmd = ConfusionMatrixDisplay(cm, display_labels=target_categories)\n",
    "cmd.plot();"
   ]
  },
  {
   "cell_type": "markdown",
   "id": "dfc07d94",
   "metadata": {},
   "source": [
    "### Approach 2 - Random Forest Classifier"
   ]
  },
  {
   "cell_type": "code",
   "execution_count": 42,
   "id": "a6c8a9f2",
   "metadata": {},
   "outputs": [
    {
     "name": "stdout",
     "output_type": "stream",
     "text": [
      "tuned hpyerparameters :(best parameters)  {'criterion': 'entropy', 'n_estimators': 100}\n",
      "accuracy : 0.8582055253781476\n"
     ]
    }
   ],
   "source": [
    "grid = { \n",
    "    'n_estimators': [100, 200, 500],\n",
    "    'criterion' :['gini', 'entropy']\n",
    "}\n",
    "model_2=RandomForestClassifier()\n",
    "rfc_cv=GridSearchCV(model_2,grid,cv=3)\n",
    "rfc_cv.fit(X_train,y_train)\n",
    "\n",
    "print(\"tuned hpyerparameters :(best parameters) \",rfc_cv.best_params_)\n",
    "print(\"accuracy :\",rfc_cv.best_score_)"
   ]
  },
  {
   "cell_type": "code",
   "execution_count": 43,
   "id": "9147e974",
   "metadata": {},
   "outputs": [
    {
     "name": "stdout",
     "output_type": "stream",
     "text": [
      "Accuracy of random forest is: 87.0 %\n"
     ]
    },
    {
     "data": {
      "image/png": "[encoded data removed]",
      "text/plain": [
       "<Figure size 432x288 with 2 Axes>"
      ]
     },
     "metadata": {
      "needs_background": "light"
     },
     "output_type": "display_data"
    }
   ],
   "source": [
    "# Train model\n",
    "model_2 = RandomForestClassifier(n_estimators=100,criterion=\"entropy\")\n",
    "model_2.fit(X_train, y_train)\n",
    "\n",
    "#predict\n",
    "y_pred_rf = model_2.predict(X_test)\n",
    "\n",
    "print(\"Accuracy of random forest is:\",round(accuracy_score(y_test,y_pred_rf),2)*100,\"%\")\n",
    "\n",
    "# calculate the confusion matrix\n",
    "cm = confusion_matrix(y_test, y_pred_rf)\n",
    "cmd = ConfusionMatrixDisplay(cm, display_labels=target_categories)\n",
    "cmd.plot();"
   ]
  },
  {
   "cell_type": "markdown",
   "id": "8f66332c",
   "metadata": {},
   "source": [
    "## Evaluation\n",
    "### Comparing the classifiers:\n",
    "We have used the following metrics to compare classifiers:\n",
    "- **Accuracy:** A ratio of correctly predicted observation to the total observations\n",
    "- **Precision:** Precision is the ratio of correctly predicted positive observations to the total predicted positive observations.\n",
    "- **Recall:** Recall calculates how many of the Actual Positives our model captures through labeling it as Positive (True Positive)\n",
    "- **F-1 Score:** The F1-score combines the precision and recall of a classifier into a single metric by taking their harmonic mean. It is primarily used to compare the performance of two classifiers. **F-1 score is genrerally used to compare classifier performance.**"
   ]
  },
  {
   "cell_type": "code",
   "execution_count": 44,
   "id": "6a097a68",
   "metadata": {},
   "outputs": [
    {
     "name": "stdout",
     "output_type": "stream",
     "text": [
      "\u001b[1mMetrics for Logistic Regression\u001b[0m\n",
      "\n",
      "\n",
      "              precision    recall  f1-score   support\n",
      "\n",
      "     helpful       0.88      0.97      0.92       915\n",
      "   unhelpful       0.74      0.36      0.49       195\n",
      "\n",
      "    accuracy                           0.87      1110\n",
      "   macro avg       0.81      0.67      0.71      1110\n",
      "weighted avg       0.85      0.87      0.85      1110\n",
      "\n",
      "\n",
      "\n",
      "\u001b[1mMetrics for Random Forest\u001b[0m\n",
      "\n",
      "\n",
      "              precision    recall  f1-score   support\n",
      "\n",
      "     helpful       0.87      1.00      0.93       915\n",
      "   unhelpful       0.97      0.29      0.44       195\n",
      "\n",
      "    accuracy                           0.87      1110\n",
      "   macro avg       0.92      0.64      0.69      1110\n",
      "weighted avg       0.89      0.87      0.84      1110\n",
      "\n"
     ]
    }
   ],
   "source": [
    "print(\"\\033[1mMetrics for Logistic Regression\\033[0m\")\n",
    "print(\"\\n\")\n",
    "print(classification_report(y_test, y_pred_lr, target_names=target_categories))\n",
    "\n",
    "print(\"\\n\")\n",
    "print(\"\\033[1mMetrics for Random Forest\\033[0m\")\n",
    "print(\"\\n\")\n",
    "print(classification_report(y_test, y_pred_rf, target_names=target_categories))"
   ]
  },
  {
   "cell_type": "markdown",
   "id": "663f5bc0",
   "metadata": {},
   "source": [
    "### Results:\n",
    "\n",
    "- Random forest has better accuracy than logistic regression for this task.\n",
    "- The F1 score (a more balanced metric) proves the same.\n",
    "- The recall score for helpful reviews is very good, meaning that most of the reviews model tags as helpful are actually helpful\n",
    "- The recall score of the unhelpful reviews is less for both. Logistic Regression however beats Random Forest in this case with a recall of 39% compared to the 28% recall of Random Forest.\n",
    "- Precision score for Random Forest is better for both the classes. It is interesting to note that the precision score of the unhelpful reviews is better than that of helpful reviews.\n"
   ]
  },
  {
   "cell_type": "markdown",
   "id": "fdcb7c8d",
   "metadata": {},
   "source": [
    "### Plotting the ROC Curve for helpfulness review classification\n",
    "The Receiver Operator Characteristic (ROC) curve is an evaluation metric for binary classification problems. It is a probability curve that plots the TPR against FPR at various threshold values and essentially separates the ‘signal’ from the ‘noise’. The Area Under the Curve (AUC) is the measure of the ability of a classifier to distinguish between classes and is used as a summary of the ROC curve.\n",
    "\n",
    "The higher the AUC, the better the performance of the model at distinguishing between the positive and negative classes."
   ]
  },
  {
   "cell_type": "code",
   "execution_count": 45,
   "id": "5aff8997",
   "metadata": {},
   "outputs": [
    {
     "name": "stdout",
     "output_type": "stream",
     "text": [
      "AUC_Score for LR Classifier: 83.50%\n",
      "AUC_Score for RF Classifier: 86.64%\n"
     ]
    }
   ],
   "source": [
    "# Comparising LR and RF based on ROC AUC \n",
    "pred_prob1 = model_1.predict_proba(X_test)\n",
    "pred_prob2 = model_2.predict_proba(X_test)\n",
    "\n",
    "\n",
    "auc_1 = roc_auc_score(y_test, pred_prob1[:,1])\n",
    "auc_2 = roc_auc_score(y_test, pred_prob2[:,1])\n",
    "\n",
    "auc_scores = {}\n",
    "\n",
    "print('AUC_Score for LR Classifier: %.2f%%' % (auc_1 * 100))\n",
    "print('AUC_Score for RF Classifier: %.2f%%' % (auc_2 * 100))\n",
    "\n",
    "auc_scores['LR'] = auc_1\n",
    "auc_scores['RF'] = auc_2"
   ]
  },
  {
   "cell_type": "code",
   "execution_count": 46,
   "id": "04bc3571",
   "metadata": {
    "scrolled": true
   },
   "outputs": [
    {
     "data": {
      "image/png": "[encoded data removed]",
      "text/plain": [
       "<Figure size 432x288 with 1 Axes>"
      ]
     },
     "metadata": {
      "needs_background": "light"
     },
     "output_type": "display_data"
    }
   ],
   "source": [
    "#Plotting the ROC curves \n",
    "\n",
    "fpr_1, tpr_1, _ = roc_curve(y_test,pred_prob1[:,1], pos_label = 'helpful')\n",
    "fpr_2, tpr_2, _ = roc_curve(y_test,pred_prob2[:,1], pos_label = 'helpful')\n",
    "\n",
    "plt.plot(fpr_1,tpr_1, label='LR AUC = %.2f%%'%(auc_scores['LR']*100))\n",
    "plt.plot(fpr_2,tpr_2, label='RF AUC = %.2f%%'%(auc_scores['RF']*100))\n",
    "\n",
    "\n",
    "plt.ylabel('True Positive Rate')\n",
    "plt.xlabel('False Positive Rate')\n",
    "plt.legend()\n",
    "plt.show()"
   ]
  },
  {
   "cell_type": "markdown",
   "id": "af826725",
   "metadata": {},
   "source": [
    "\n",
    "**We can see that the both the classifiers perform similar but the random forest is slightly better at this task.**"
   ]
  },
  {
   "cell_type": "markdown",
   "id": "4d98492b",
   "metadata": {},
   "source": [
    "### Comparison of two tasks based on above metrics\n",
    "- Both the tasks are binary classification tasks. In order to compare them, I have used the same classifiers with same parameters.\n",
    "- The first task of sentiment analysis has fairly balanced data while the helpfulness classification has very less data points to show unhelpful reviews. \n",
    "- This led to both the classifiers perform better on task 1 (AUC 93%) compared to task 2 (AUC 84%). \n",
    "- For task 2, in order to tackle class imbalance, I have used `stratify` parameter during train-test split to improve classification accuracy to some extent.\n",
    "\n",
    "### Conclusion\n",
    "We can conclude that document classification tasks need proper preprocessing before being given as input to classification algorithms. The classifier accuracy isn't a wholistic metric to evaluate its performance. F1 score gives a way to compare two classifiers in a balanced way. For an indepth analysis, checking precision and recall helps us get a better idea about which errors are acceptable per task. The reason for poor results of helpfulness also stems from the complexity of task. While classifying a review as postive and negative is fairly straightforward and can be identified with the help of some commonly occuring postive and negative verbs, classifying review helpfulness is more difficult. Even if the underlying complexity, the machine learning algorithms perform pretty well for the given tasks.\n",
    "\n",
    "### Future Work\n",
    "The class with lesser number of samples usually has poor accuracy but it can be improved by techiques like oversampling or better classifiers and this can be done as future work. Along with that, deep learning techniques can be used since we do not have a lot of features in the data. "
   ]
  }
 ],
 "metadata": {
  "kernelspec": {
   "display_name": "Python 3 (ipykernel)",
   "language": "python",
   "name": "python3"
  },
  "language_info": {
   "codemirror_mode": {
    "name": "ipython",
    "version": 3
   },
   "file_extension": ".py",
   "mimetype": "text/x-python",
   "name": "python",
   "nbconvert_exporter": "python",
   "pygments_lexer": "ipython3",
   "version": "3.9.7"
  }
 },
 "nbformat": 4,
 "nbformat_minor": 5
}
