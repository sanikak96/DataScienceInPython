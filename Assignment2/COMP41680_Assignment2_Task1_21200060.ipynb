{
 "cells": [
  {
   "cell_type": "markdown",
   "metadata": {},
   "source": [
    "# COMP41680 Assignment 2 - Task 1 (Data Collection)\n",
    "## Student Name: Sanika Kulkarni     Student ID: 21200060\n",
    "\n",
    "The objective of this assignment is to scrape a collection of product reviews from a set of web pages, preprocess the data, and evaluate the performance of different classifiers in the context of two related text classification tasks: \n",
    "- Predicting review sentiment\n",
    "- Predicting review helpfulness\n",
    "\n",
    "### Task 1 Objectives:\n",
    "\n",
    "**1. Scrape the complete set of web pages from the personal website address:**\n",
    "http://mlg.ucd.ie/modules/python/assign2/21200060/ \n",
    "\n",
    "**2. From the web pages above, parse every review across all years 2016-2021. For each product review, extract the following information:**\n",
    "- The star rating of the review\n",
    "- The title text of the review\n",
    "- The main body text of the review \n",
    "- Review helpfulness information\n",
    "\n",
    "**3. Store the parsed review data in an appropriate format**\n",
    "\n",
    "\n"
   ]
  },
  {
   "cell_type": "markdown",
   "metadata": {
    "id": "rGCWzrOqUXqP"
   },
   "source": [
    "## Importing libraries"
   ]
  },
  {
   "cell_type": "code",
   "execution_count": 1,
   "metadata": {
    "id": "0aATWMi3F-vt"
   },
   "outputs": [],
   "source": [
    "import requests\n",
    "import pandas as pd\n",
    "from bs4 import BeautifulSoup\n",
    "import time"
   ]
  },
  {
   "cell_type": "markdown",
   "metadata": {
    "id": "4f_iRve7UcuE"
   },
   "source": [
    "## Defining the required columns of dataframe"
   ]
  },
  {
   "cell_type": "code",
   "execution_count": 2,
   "metadata": {
    "id": "3FFTxUVNDbMM"
   },
   "outputs": [],
   "source": [
    "#List to store star ratings of the reviews\n",
    "star_ratings = []\n",
    "\n",
    "#list to store title text of the reviews\n",
    "titles = [] \n",
    "\n",
    "#list to store Main body of the review\n",
    "review_content = []  \n",
    "\n",
    "#list to store helpfulness of the review\n",
    "usefulness_rating = []"
   ]
  },
  {
   "cell_type": "markdown",
   "metadata": {},
   "source": [
    "## Defining functions to scrape the review data\n",
    "- The `extract_url_years_months()` function is used to generate a list of all urls via the main page and extract the year and month attribute. This is helpful to run the `fetch()` function. \n",
    "- The `extract()` function is used to extract the required data from the entire HTML script.\n",
    "- The `fetch()` function loops through the all the review pages per year, per month and extracts information about the review using `extract()` function"
   ]
  },
  {
   "cell_type": "code",
   "execution_count": 4,
   "metadata": {},
   "outputs": [],
   "source": [
    "years = []\n",
    "months = []\n",
    "\n",
    "def extract_url_years_months():\n",
    "    \n",
    "    base_url = 'http://mlg.ucd.ie/modules/python/assign2/21200060/'\n",
    "    result = requests.get(base_url)\n",
    "    soup = BeautifulSoup(result.text, 'html.parser') \n",
    "    links = soup.find_all(\"a\") \n",
    "    all_urls = []\n",
    "    for link in links[1:]: #since first link is index.html\n",
    "        link_address = base_url + link.get(\"href\")\n",
    "        all_urls.append(link_address)\n",
    "\n",
    "    for url in all_urls:\n",
    "        year = url.split(\"-\")[1]\n",
    "        month = url.split(\"-\")[2]\n",
    "        if year not in years:\n",
    "            years.append(year)\n",
    "        if month not in months:\n",
    "            months.append(month)"
   ]
  },
  {
   "cell_type": "code",
   "execution_count": 6,
   "metadata": {},
   "outputs": [],
   "source": [
    "extract_url_years_months()"
   ]
  },
  {
   "cell_type": "code",
   "execution_count": 9,
   "metadata": {
    "id": "XwBl4HcNQ-1C"
   },
   "outputs": [],
   "source": [
    "def extract(soup):\n",
    "    \n",
    "  #Extracting all div blocks of reviews\n",
    "  divs = soup.find('div')\n",
    "  review_items = divs.find_all(class_=\"review\")\n",
    "\n",
    "  for review in review_items:\n",
    "    #Extracting ratings\n",
    "    star_ratings.append(review.span.img.get('alt'))\n",
    "\n",
    "    #Extracting the review-title\n",
    "    titles.append(review.h5.get_text())\n",
    "    \n",
    "    #Extracting the main-body\n",
    "    review_content.append(review.find_all('p')[-1].get_text())\n",
    "\n",
    "    #Extracting the helpfulness info\n",
    "    usefulness_rating.append(review.find_all('p')[-2].get_text())"
   ]
  },
  {
   "cell_type": "code",
   "execution_count": 10,
   "metadata": {
    "id": "8sVys_RIHYk6"
   },
   "outputs": [],
   "source": [
    "def fetch():\n",
    "\n",
    "  for year in years:\n",
    "    for month in months:\n",
    "      url = \"http://mlg.ucd.ie/modules/python/assign2/21200060/reviews-%s-%s-01.html\" % (year, month)\n",
    "      print('\\r %s' % (url), end='')\n",
    "      result = requests.get(url)\n",
    "      soup = BeautifulSoup(result.content, 'html.parser')\n",
    "        \n",
    "      #Extracting all information of page 1\n",
    "      extract(soup)\n",
    "      num_pages = int(soup.find('h4', class_=\"results\").get_text()[-1]) + 1\n",
    "    \n",
    "      for i in range(2, num_pages):\n",
    "        url = \"http://mlg.ucd.ie/modules/python/assign2/21200060/reviews-%s-%s-0%s.html\" % (year, month, i)\n",
    "        print('\\r %s' % (url), end='')\n",
    "        result = requests.get(url)\n",
    "        soup = BeautifulSoup(result.content, 'html.parser')\n",
    "        #Extracting all information from page-2 onwards\n",
    "        extract(soup)"
   ]
  },
  {
   "cell_type": "markdown",
   "metadata": {},
   "source": [
    "### Fetching the data"
   ]
  },
  {
   "cell_type": "code",
   "execution_count": 11,
   "metadata": {
    "colab": {
     "base_uri": "https://localhost:8080/"
    },
    "id": "EMjnEXPeH99g",
    "outputId": "eecf9677-f21c-4dac-8c0d-15601ab10d9d"
   },
   "outputs": [
    {
     "name": "stdout",
     "output_type": "stream",
     "text": [
      " http://mlg.ucd.ie/modules/python/assign2/21200060/reviews-2021-dec-05.html"
     ]
    }
   ],
   "source": [
    "fetch()"
   ]
  },
  {
   "cell_type": "markdown",
   "metadata": {},
   "source": [
    "## Creating a Reviews DataFrame\n",
    "Each column contains the data from the above created lists"
   ]
  },
  {
   "cell_type": "code",
   "execution_count": 12,
   "metadata": {
    "id": "MhhtbMm457Xz"
   },
   "outputs": [],
   "source": [
    "reviews = pd.DataFrame()"
   ]
  },
  {
   "cell_type": "code",
   "execution_count": 13,
   "metadata": {
    "id": "dlt5wJzwSjG9"
   },
   "outputs": [],
   "source": [
    "reviews['Title'] = titles\n",
    "reviews['Review'] = review_content\n",
    "reviews['Star_ratings'] = star_ratings\n",
    "reviews['Helpfulness'] = usefulness_rating"
   ]
  },
  {
   "cell_type": "code",
   "execution_count": 14,
   "metadata": {
    "id": "8P3YLzHiTSju"
   },
   "outputs": [
    {
     "data": {
      "text/html": [
       "<div>\n",
       "<style scoped>\n",
       "    .dataframe tbody tr th:only-of-type {\n",
       "        vertical-align: middle;\n",
       "    }\n",
       "\n",
       "    .dataframe tbody tr th {\n",
       "        vertical-align: top;\n",
       "    }\n",
       "\n",
       "    .dataframe thead th {\n",
       "        text-align: right;\n",
       "    }\n",
       "</style>\n",
       "<table border=\"1\" class=\"dataframe\">\n",
       "  <thead>\n",
       "    <tr style=\"text-align: right;\">\n",
       "      <th></th>\n",
       "      <th>Title</th>\n",
       "      <th>Review</th>\n",
       "      <th>Star_ratings</th>\n",
       "      <th>Helpfulness</th>\n",
       "    </tr>\n",
       "  </thead>\n",
       "  <tbody>\n",
       "    <tr>\n",
       "      <th>0</th>\n",
       "      <td>The herbs were great...but the cherry tomatoe...</td>\n",
       "      <td>The herb kit that came with my Aerogarden was ...</td>\n",
       "      <td>2-star</td>\n",
       "      <td>15 out of 17 users found this review helpful</td>\n",
       "    </tr>\n",
       "    <tr>\n",
       "      <th>1</th>\n",
       "      <td>Even more useful than regular parchment paper</td>\n",
       "      <td>I originally bought this just because it was c...</td>\n",
       "      <td>5-star</td>\n",
       "      <td>19 out of 19 users found this review helpful</td>\n",
       "    </tr>\n",
       "    <tr>\n",
       "      <th>2</th>\n",
       "      <td>Shake it before you bake it</td>\n",
       "      <td>If you do it in reverse (bake before shaking),...</td>\n",
       "      <td>2-star</td>\n",
       "      <td>2 out of 13 users found this review helpful</td>\n",
       "    </tr>\n",
       "    <tr>\n",
       "      <th>3</th>\n",
       "      <td>Not what the picture describes</td>\n",
       "      <td>I bought this steak for my father in law for C...</td>\n",
       "      <td>2-star</td>\n",
       "      <td>7 out of 14 users found this review helpful</td>\n",
       "    </tr>\n",
       "    <tr>\n",
       "      <th>4</th>\n",
       "      <td>What a ripe off - GIVE ME A BREAK</td>\n",
       "      <td>Sorry but I had these noodles and they are no ...</td>\n",
       "      <td>2-star</td>\n",
       "      <td>10 out of 34 users found this review helpful</td>\n",
       "    </tr>\n",
       "  </tbody>\n",
       "</table>\n",
       "</div>"
      ],
      "text/plain": [
       "                                               Title  \\\n",
       "0   The herbs were great...but the cherry tomatoe...   \n",
       "1      Even more useful than regular parchment paper   \n",
       "2                        Shake it before you bake it   \n",
       "3                     Not what the picture describes   \n",
       "4                  What a ripe off - GIVE ME A BREAK   \n",
       "\n",
       "                                              Review Star_ratings  \\\n",
       "0  The herb kit that came with my Aerogarden was ...       2-star   \n",
       "1  I originally bought this just because it was c...       5-star   \n",
       "2  If you do it in reverse (bake before shaking),...       2-star   \n",
       "3  I bought this steak for my father in law for C...       2-star   \n",
       "4  Sorry but I had these noodles and they are no ...       2-star   \n",
       "\n",
       "                                    Helpfulness  \n",
       "0  15 out of 17 users found this review helpful  \n",
       "1  19 out of 19 users found this review helpful  \n",
       "2   2 out of 13 users found this review helpful  \n",
       "3   7 out of 14 users found this review helpful  \n",
       "4  10 out of 34 users found this review helpful  "
      ]
     },
     "execution_count": 14,
     "metadata": {},
     "output_type": "execute_result"
    }
   ],
   "source": [
    "reviews.head()"
   ]
  },
  {
   "cell_type": "code",
   "execution_count": 19,
   "metadata": {
    "id": "9rFWYtlHWhry"
   },
   "outputs": [
    {
     "name": "stdout",
     "output_type": "stream",
     "text": [
      "Total Reviews:  5546\n"
     ]
    }
   ],
   "source": [
    "print(\"Total Reviews: \", len(reviews))"
   ]
  },
  {
   "cell_type": "code",
   "execution_count": 16,
   "metadata": {},
   "outputs": [
    {
     "data": {
      "text/html": [
       "<div>\n",
       "<style scoped>\n",
       "    .dataframe tbody tr th:only-of-type {\n",
       "        vertical-align: middle;\n",
       "    }\n",
       "\n",
       "    .dataframe tbody tr th {\n",
       "        vertical-align: top;\n",
       "    }\n",
       "\n",
       "    .dataframe thead th {\n",
       "        text-align: right;\n",
       "    }\n",
       "</style>\n",
       "<table border=\"1\" class=\"dataframe\">\n",
       "  <thead>\n",
       "    <tr style=\"text-align: right;\">\n",
       "      <th></th>\n",
       "      <th>Title</th>\n",
       "      <th>Review</th>\n",
       "      <th>Star_ratings</th>\n",
       "      <th>Helpfulness</th>\n",
       "    </tr>\n",
       "  </thead>\n",
       "  <tbody>\n",
       "    <tr>\n",
       "      <th>5541</th>\n",
       "      <td>Ovaltine has changed their formula</td>\n",
       "      <td>Ovaltine has updated their packaging and chang...</td>\n",
       "      <td>1-star</td>\n",
       "      <td>25 out of 27 users found this review helpful</td>\n",
       "    </tr>\n",
       "    <tr>\n",
       "      <th>5542</th>\n",
       "      <td>Perhaps too compostable?</td>\n",
       "      <td>I bought these bags to go with Trading ECO-200...</td>\n",
       "      <td>3-star</td>\n",
       "      <td>20 out of 21 users found this review helpful</td>\n",
       "    </tr>\n",
       "    <tr>\n",
       "      <th>5543</th>\n",
       "      <td>Nutiva Organic Shelled Hempseed, 5-Pound Bag</td>\n",
       "      <td>This item was brought up in a forum with a lin...</td>\n",
       "      <td>5-star</td>\n",
       "      <td>22 out of 26 users found this review helpful</td>\n",
       "    </tr>\n",
       "    <tr>\n",
       "      <th>5544</th>\n",
       "      <td>This gum is really great!</td>\n",
       "      <td>If you have problems with Aspartame (which is ...</td>\n",
       "      <td>5-star</td>\n",
       "      <td>17 out of 17 users found this review helpful</td>\n",
       "    </tr>\n",
       "    <tr>\n",
       "      <th>5545</th>\n",
       "      <td>Cat Scratch Fever!!</td>\n",
       "      <td>I opened up the cat scratcher, spread a little...</td>\n",
       "      <td>5-star</td>\n",
       "      <td>27 out of 27 users found this review helpful</td>\n",
       "    </tr>\n",
       "  </tbody>\n",
       "</table>\n",
       "</div>"
      ],
      "text/plain": [
       "                                              Title  \\\n",
       "5541             Ovaltine has changed their formula   \n",
       "5542                       Perhaps too compostable?   \n",
       "5543   Nutiva Organic Shelled Hempseed, 5-Pound Bag   \n",
       "5544                      This gum is really great!   \n",
       "5545                            Cat Scratch Fever!!   \n",
       "\n",
       "                                                 Review Star_ratings  \\\n",
       "5541  Ovaltine has updated their packaging and chang...       1-star   \n",
       "5542  I bought these bags to go with Trading ECO-200...       3-star   \n",
       "5543  This item was brought up in a forum with a lin...       5-star   \n",
       "5544  If you have problems with Aspartame (which is ...       5-star   \n",
       "5545  I opened up the cat scratcher, spread a little...       5-star   \n",
       "\n",
       "                                       Helpfulness  \n",
       "5541  25 out of 27 users found this review helpful  \n",
       "5542  20 out of 21 users found this review helpful  \n",
       "5543  22 out of 26 users found this review helpful  \n",
       "5544  17 out of 17 users found this review helpful  \n",
       "5545  27 out of 27 users found this review helpful  "
      ]
     },
     "execution_count": 16,
     "metadata": {},
     "output_type": "execute_result"
    }
   ],
   "source": [
    "reviews.tail()"
   ]
  },
  {
   "cell_type": "code",
   "execution_count": 17,
   "metadata": {},
   "outputs": [
    {
     "data": {
      "text/plain": [
       "'The herb kit that came with my Aerogarden was superb and I enjoyed caring for my little garden. Once it was time to replace it, I purchased the cherry tomato seed kit. These also grew rapidly, but one day I noticed that they had completely fallen over...how would I stake these on an Aerogarden? And yes, the lights were as close to the plants as possible. I kind of leaned them against each other to keep them upright. But they still fell over several times. So they grew and grew but I never got any tomatoes. :( I also did follow the directions to ensure that they had complete darkness for proper flowering. Fortunately we have several tomato and cherry tomato plants in our outdoor vegetable garden. Unfortunately, I spent $20 on 3 cherry tomato Aerogarden plants and got zero yield. …'"
      ]
     },
     "execution_count": 17,
     "metadata": {},
     "output_type": "execute_result"
    }
   ],
   "source": [
    "reviews[\"Review\"][0]"
   ]
  },
  {
   "cell_type": "markdown",
   "metadata": {},
   "source": [
    "## Storing the data in .csv format for further analysis"
   ]
  },
  {
   "cell_type": "code",
   "execution_count": 18,
   "metadata": {
    "id": "Z-858b1LTgBe"
   },
   "outputs": [],
   "source": [
    "reviews.to_csv('product_reviews.csv',index=False)"
   ]
  }
 ],
 "metadata": {
  "colab": {
   "collapsed_sections": [],
   "name": "Data-Science Assignment 2 Task 1(Sahil).ipynb",
   "provenance": []
  },
  "kernelspec": {
   "display_name": "Python 3 (ipykernel)",
   "language": "python",
   "name": "python3"
  },
  "language_info": {
   "codemirror_mode": {
    "name": "ipython",
    "version": 3
   },
   "file_extension": ".py",
   "mimetype": "text/x-python",
   "name": "python",
   "nbconvert_exporter": "python",
   "pygments_lexer": "ipython3",
   "version": "3.9.7"
  }
 },
 "nbformat": 4,
 "nbformat_minor": 1
}
